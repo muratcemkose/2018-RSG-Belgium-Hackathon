{
 "cells": [
  {
   "cell_type": "code",
   "execution_count": 51,
   "metadata": {
    "ExecuteTime": {
     "end_time": "2018-11-16T15:24:05.008333Z",
     "start_time": "2018-11-16T15:24:04.997844Z"
    }
   },
   "outputs": [],
   "source": [
    "import markovify\n",
    "import pandas as pd\n",
    "import os\n",
    "import re\n",
    "import pylab\n",
    "import numpy as np\n",
    "import numpy.random\n",
    "import matplotlib.pyplot as plt\n",
    "from PIL import Image\n",
    "\n",
    "def find_section(word_list, link):\n",
    "    section=\"\"\n",
    "    file_names=os.listdir(link)\n",
    "    for i in file_names:\n",
    "        f= open(link+i, encoding=\"utf8\")\n",
    "        text=f.read()\n",
    "        s=re.search(re.escape(word_list[0])+r\"(.*)\"+re.escape(word_list[1]),text.replace(\"\\n\",\" \"))\n",
    "        if not s is None:\n",
    "            section=section+s.group(1)\n",
    "        f.close()\n",
    "    return section\n",
    "\n",
    "def make_article(reference_link, section_str_dict,section_len_dict):\n",
    "    whole_article=\"\"\n",
    "    for i in section_str_dict.keys():\n",
    "        section_input=\"\"\n",
    "        for j in section_str_dict.get(i):\n",
    "            section_input=section_input+find_section(j,reference_link)\n",
    "        model=markovify.Text(section_input)\n",
    "        section_output=\"\"\n",
    "        for t in range(section_len_dict.get(i)):\n",
    "            section_output=section_output+\" \"+model.make_sentence()\n",
    "        if i==\"RESULTS\":\n",
    "            if \" table\" in section_output.lower():\n",
    "                section_output=section_output+\"\\n\"+pd.DataFrame(np.random.random((5,5))).to_latex()\n",
    "            if \" figure\" in section_output.lower():\n",
    "                x = np.random.randn(5000)\n",
    "                y = np.random.randn(5000)\n",
    "                heatmap, xedges, yedges = np.histogram2d(x, y, bins=50)\n",
    "                plt.clf()\n",
    "                plt.savefig(os.getcwd()+\"\\\\result_image.png\")\n",
    "                section_output=section_output+\"\\n\"+\"\\\\begin{figure}[H]\\n\\centering\\n\\includegraphics*[width=1\\\\textwidth]{result_image.png}\\n\\end{figure}\"\n",
    "        whole_article=whole_article+\" \"+\"\\section{\"+i+\"}\\n\"+section_output+\"\\n\"\n",
    "    return whole_article"
   ]
  },
  {
   "cell_type": "code",
   "execution_count": 23,
   "metadata": {
    "ExecuteTime": {
     "end_time": "2018-11-16T13:53:58.645294Z",
     "start_time": "2018-11-16T13:53:58.633690Z"
    },
    "collapsed": true
   },
   "outputs": [
    {
     "ename": "FileNotFoundError",
     "evalue": "[Errno 2] No such file or directory: 'C:\\\\Users\\\\murat_gga8ya6\\\\Desktop\\\\RSG\\\\hackathon-rsg-paper\\\\PMC\\\\PLoS_Comput_Biol\\\\PLoS_Comput_Biol_2014_Jan_14_10(1)_10_1371_annotation_37bcc34c-7789-4c64-a3cf-902e619f5526.txt'",
     "output_type": "error",
     "traceback": [
      "\u001b[1;31m---------------------------------------------------------------------------\u001b[0m",
      "\u001b[1;31mFileNotFoundError\u001b[0m                         Traceback (most recent call last)",
      "\u001b[1;32m<ipython-input-23-676649077546>\u001b[0m in \u001b[0;36m<module>\u001b[1;34m()\u001b[0m\n\u001b[1;32m----> 1\u001b[1;33m \u001b[1;32mwith\u001b[0m \u001b[0mopen\u001b[0m\u001b[1;33m(\u001b[0m\u001b[1;34m\"C:\\\\Users\\\\murat_gga8ya6\\\\Desktop\\\\RSG\\\\hackathon-rsg-paper\\\\PMC\\\\PLoS_Comput_Biol\\\\PLoS_Comput_Biol_2014_Jan_14_10(1)_10_1371_annotation_37bcc34c-7789-4c64-a3cf-902e619f5526.txt\"\u001b[0m\u001b[1;33m)\u001b[0m \u001b[1;32mas\u001b[0m \u001b[0mf\u001b[0m\u001b[1;33m:\u001b[0m\u001b[1;33m\u001b[0m\u001b[0m\n\u001b[0m\u001b[0;32m      2\u001b[0m     \u001b[0mtext\u001b[0m\u001b[1;33m=\u001b[0m\u001b[0mf\u001b[0m\u001b[1;33m.\u001b[0m\u001b[0mread\u001b[0m\u001b[1;33m(\u001b[0m\u001b[1;33m)\u001b[0m\u001b[1;33m\u001b[0m\u001b[0m\n",
      "\u001b[1;31mFileNotFoundError\u001b[0m: [Errno 2] No such file or directory: 'C:\\\\Users\\\\murat_gga8ya6\\\\Desktop\\\\RSG\\\\hackathon-rsg-paper\\\\PMC\\\\PLoS_Comput_Biol\\\\PLoS_Comput_Biol_2014_Jan_14_10(1)_10_1371_annotation_37bcc34c-7789-4c64-a3cf-902e619f5526.txt'"
     ]
    }
   ],
   "source": [
    "with open(\"C:\\\\Users\\\\murat_gga8ya6\\\\Desktop\\\\RSG\\\\hackathon-rsg-paper\\\\PMC\\\\PLoS_Comput_Biol\\\\PLoS_Comput_Biol_2014_Jan_14_10(1)_10_1371_annotation_37bcc34c-7789-4c64-a3cf-902e619f5526.txt\") as f:\n",
    "    text=f.read()"
   ]
  },
  {
   "cell_type": "code",
   "execution_count": 22,
   "metadata": {
    "ExecuteTime": {
     "end_time": "2018-11-16T10:59:35.346517Z",
     "start_time": "2018-11-16T10:59:35.315600Z"
    }
   },
   "outputs": [],
   "source": [
    "Results_abs=\"\"\n",
    "link=\"C:\\\\Users\\\\murat_gga8ya6\\\\Desktop\\\\RSG\\\\hackathon-rsg-paper\\\\PMC\\\\Bioinformatics\\\\\"\n",
    "file_names=os.listdir(link)\n",
    "for i in file_names[:100]:\n",
    "    f= open(link+i, encoding=\"utf8\")\n",
    "    text=f.read()\n",
    "    s=re.search('Results: (.*)',text)\n",
    "    if not s is None:\n",
    "        Results_abs=Results_abs+s.group(1)\n",
    "    f.close()"
   ]
  },
  {
   "cell_type": "code",
   "execution_count": 52,
   "metadata": {
    "ExecuteTime": {
     "end_time": "2018-11-16T15:26:32.059732Z",
     "start_time": "2018-11-16T15:24:14.646040Z"
    },
    "scrolled": true
   },
   "outputs": [
    {
     "name": "stdout",
     "output_type": "stream",
     "text": [
      " \\section{Motivation}\n",
      " Text label on each subset, and the oa-TOF instrument is significantly different than the accuracy for the segmentation model in all cases. 4 DISCUSSION We have only a subset of the 3D structure from the WGD compared to ARSER, LS and CR BAMs. The details of the bacterial SCL prediction software to build an index over these datasets.\n",
      " \\section{Results}\n",
      " RactIP can integrate approximate information on the ENCODE regions of open chromatin. This enables us to suggest many potential pathways and that machine learning-based compositional approach for de novo assemblies. For this, the method achieved a considerable improvement over alternative algorithms.\n",
      " \\section{Availability}\n",
      " 2D interaction graphs are not retested.\n",
      " \\section{INTRODUCTION}\n",
      " More details can be assumed for this chunk. The small team met every 2 min at a proteome-wide scale, we need to push all expanded nodes back into the functional similarity graph, S. Step2-Conflict Graph Generation and Conflict Resolution: Assume the probability of switching from state 1 to 3 in absolute terms to encourage external developers to use a related unduplicated genome R with up to estimate the importance of the sigmoid, but the presence of excess water molecules were approximated with a distinct relationship with BioXSD. The theoretical P-value for this kind of evolutionary event, is often fast. Samples: at the starting point in S′ the current view in the Section 3, we describe the two was taken. 2 METHODS We consider two aspects. If a digraph is strongly connected if the multiplicities of nearby insertions/deletions. We define a consensus network by asking for its likelihood to pass a pre-defined significance level of this article as the subject for studying structure function relationships, and are retrieved from the previous π. The fact that the benefits of Broad-Enrich across the tile. Let Q represent a reticulation edge is weighted by the fundamentals of the reasoning is performed. In Figure 1A, we illustrate the relationships, are fitted using smooth splines with five subspecies.\n",
      " \\section{METHODS}\n",
      " Moreover, footprint segments are usually not defined by the analysis. Each SATuRNo's run was executed in their original ordering with respect to the prior probability as p, the prior knowledge pertaining to sensation, behavior, cognition and neuroanatomy. Then we computed the SNP network. This is because clusters with insufficient links will not impact the formation energies of compounds The structure of each fragment length distribution as the read mapping algorithm. Meanwhile, H1, H2 and H3 are hidden neurons is set to zero, and sort the database subjects and an interaction concept with a hyperedge eS. These were subsequently discarded. LOH in unpaired samples was defined as a function of x, whose limits are 0 and aA, aa to 1. Fortunately, we show the result of an admixed individual is displayed. An index file is also possible to obtain a bound ligand, we are to be very large graphical models, which are randomly selected negative examples only, an LVQ system compared with the held-out PDZ domain. In this work, we predict at most w or there is a deal breaker.\n",
      " \\section{RESULTS}\n",
      " When investigating whether H3K4me2 is localized strictly to the question whether structural information, such as decision trees, to change the value of 20 or higher, 90 % of true somatics in high SF segments should be defined, so the user can choose to run SMURFLite with an average increase of the scores of the CAL network search, this is the number of clusters, the dominating bins cover the graph. When analysing the RDNPs in a cost of substantially more computing time for large datasets, if an appropriate estimation of the negative cases, i.e. Moreover, for five SNPs with a significant correlation and are involved in the dataset as an independent dataset of 1000 E.coli datasets using the control–control classifier that distinguishes the relevance ranks were computed after Samtools internal base quality values are above 0.6. This plot shows the distribution of residuals when there are intensity-dependent array effects and intensity-dependent array effects were included. The sensitivity and the hierarchy kernel adds some structure information was available. Figure 6 show the literature Yes 3754 815 Debated Debate in the biases discussed in the text, the added ‘noise’ from decomposed fragments, it is important because, according to the SBF being mapped. It is important for the PPDK reaction changes significantly with pH. With the DO-to-DOLite mapping, we convert the identifier cannot be sustained in the populations, but not by the large confounding effect produced by SPEX2 show local pattern coherence and better performance than CSI-Gibbs, whereas there were the lowest. This comparison showed that heterozygous SNPs with minor allele frequency larger than EFO, for example, that the optimal number of proteomes. Therefore, the smaller of the likelihood of being in violation of the potential of the MST approach at all. Two adjacent sections are related with low sequence conservation, where the evidence for the observations. In this case, the gene-set specific test statistic is compared to published variations in low GMS region, even though the underlying matrix used in this dataset, only Allpaths-LG and Quake 0.3.4.2, which are present in the ELC task. It consists of genes might be expected, the classifiers for each method is the ratio NI/NC is at least some PPI networks. CREST and DELLY, but even that can be seen that when calculating ΔCt values, the AUC score is 89.26%, PRE is as high as the sizes of the ensemble, suggesting a Dicer processing. Initially, e.g. iteration 3, the initializing events are predicted, we conclude that while all other masking was deactivated.\n",
      "\\begin{figure}[H]\n",
      "\\centering\n",
      "\\includegraphics*[width=1\\textwidth]{result_image.png}\n",
      "\\end{figure}\n",
      " \\section{DISCUSSION}\n",
      " In particular, we train the mixture model using the same across all edge types. By combining PA and PSORTb, two of our algorithm can detect four solenoids, WAVELET can detects all of our strict homology definitions. 3.3 A deeper look into the assembly, while QDOCK can only fit one component at a single nucleotide resolution. If this process on both training set for ABF1. The false positive rate for each of the abstracts are displayed in cartoon and the disease is incomprehensible and explanations are possible even for non-automated reasoning, i.e. by a 6-fold cross-validation and blind test process have demonstrated that KG-SCCA could identify the dominant proteins, an advantage of this thought experiment may reveal rather unrealistic stereochemical properties.\n",
      " \\section{CONCLUSIONS}\n",
      " The recent extensions increase the range of data types can readily be merged as long as the genome with high plasticity the existing algorithms are still at their infancy. We evaluated the method on a modified Gaussian mixture model. INTARNA outperforms existing methods in the search space and allows ASTRAL to produce highly accurate species tree estimations less accurate for MRP, MP-EST and ASTRAL. The comparison with RNAHYBRID, whose hybridization energy model is the only one in our benchmark, while largely preserving the targeted GC-content. Also, the effect of merging two or possibly even more nodes has to be sparser than the other networks making it hard to assign accurate network weights.\n",
      "\n"
     ]
    },
    {
     "data": {
      "text/plain": [
       "<Figure size 432x288 with 0 Axes>"
      ]
     },
     "metadata": {},
     "output_type": "display_data"
    }
   ],
   "source": [
    "reference_link=\"C:\\\\Users\\\\murat_gga8ya6\\\\Desktop\\\\RSG\\\\hackathon-rsg-paper\\\\PMC\\\\Bioinformatics\\\\\"\n",
    "section_str_dict={\"Motivation\":[(\"Motivation\",\"Results\")],\"Results\":[(\"Results\",\"Availability\")],\"Availability\":[(\"Availability\",\"Contact\")],\"INTRODUCTION\":[(\"INTRODUCTION\",\"RESULTS\")],\"METHODS\":[(\"METHODS\",\"RESULT\"),(\"METHODS\",\"RESULTS\"),(\"METHOD\",\"RESULT\"),(\"METHOD\",\"RESULTS\")],\"RESULTS\":[(\"RESULTS\",\"DISCUSSION\"),(\"RESULT\",\"DISCUSSION\"),(\"RESULTS\",\"DISCUSSIONS\"),(\"RESULT\",\"DISCUSSIONS\")],\"DISCUSSION\":[(\"DISCUSSIONS\",\"CONCLUSION\"),(\"DISCUSSION\",\"CONCLUSION\"),(\"DISCUSSIONS\",\"CONCLUSIONS\"),(\"DISCUSSION\",\"CONCLUSIONS\")],\"CONCLUSIONS\":[(\"CONCLUSIONS\",\"AVAILABILITY\"),(\"CONCLUSION\",\"ACKNOWLEDGMENTS\"),(\"CONCLUSIONS\",\"FUNDING\")]}\n",
    "section_len_dict={\"Motivation\":3,\"Results\":3,\"Availability\":1,\"INTRODUCTION\":10,\"METHODS\":10,\"RESULTS\":15,\"DISCUSSION\":5,\"CONCLUSIONS\":5}\n",
    "result=make_article(reference_link,section_str_dict,section_len_dict)\n",
    "print(result)"
   ]
  },
  {
   "cell_type": "code",
   "execution_count": null,
   "metadata": {
    "ExecuteTime": {
     "end_time": "2018-11-16T13:56:00.187105Z",
     "start_time": "2018-11-16T13:56:00.166895Z"
    }
   },
   "outputs": [],
   "source": []
  },
  {
   "cell_type": "code",
   "execution_count": null,
   "metadata": {
    "ExecuteTime": {
     "end_time": "2018-11-16T13:34:36.917907Z",
     "start_time": "2018-11-16T13:34:36.912652Z"
    }
   },
   "outputs": [],
   "source": []
  },
  {
   "cell_type": "code",
   "execution_count": null,
   "metadata": {
    "ExecuteTime": {
     "end_time": "2018-11-16T12:52:00.695879Z",
     "start_time": "2018-11-16T12:52:00.688414Z"
    }
   },
   "outputs": [],
   "source": []
  },
  {
   "cell_type": "code",
   "execution_count": null,
   "metadata": {
    "ExecuteTime": {
     "end_time": "2018-11-16T12:53:38.713549Z",
     "start_time": "2018-11-16T12:53:38.702239Z"
    }
   },
   "outputs": [],
   "source": []
  },
  {
   "cell_type": "code",
   "execution_count": null,
   "metadata": {
    "ExecuteTime": {
     "end_time": "2018-11-16T11:00:19.266968Z",
     "start_time": "2018-11-16T11:00:19.227076Z"
    }
   },
   "outputs": [],
   "source": []
  },
  {
   "cell_type": "code",
   "execution_count": null,
   "metadata": {
    "ExecuteTime": {
     "end_time": "2018-11-16T11:01:09.194676Z",
     "start_time": "2018-11-16T11:01:09.154788Z"
    }
   },
   "outputs": [],
   "source": []
  },
  {
   "cell_type": "code",
   "execution_count": null,
   "metadata": {
    "ExecuteTime": {
     "end_time": "2018-11-16T11:01:21.200441Z",
     "start_time": "2018-11-16T11:01:21.176491Z"
    }
   },
   "outputs": [],
   "source": []
  },
  {
   "cell_type": "code",
   "execution_count": null,
   "metadata": {
    "ExecuteTime": {
     "end_time": "2018-11-16T11:43:47.917007Z",
     "start_time": "2018-11-16T11:43:47.883099Z"
    }
   },
   "outputs": [],
   "source": []
  },
  {
   "cell_type": "code",
   "execution_count": null,
   "metadata": {
    "ExecuteTime": {
     "end_time": "2018-11-16T12:28:58.345112Z",
     "start_time": "2018-11-16T12:28:58.341119Z"
    },
    "scrolled": true
   },
   "outputs": [],
   "source": []
  },
  {
   "cell_type": "code",
   "execution_count": null,
   "metadata": {
    "ExecuteTime": {
     "end_time": "2018-11-16T12:14:27.467212Z",
     "start_time": "2018-11-16T12:14:27.330575Z"
    }
   },
   "outputs": [],
   "source": []
  },
  {
   "cell_type": "code",
   "execution_count": null,
   "metadata": {
    "ExecuteTime": {
     "end_time": "2018-11-16T12:14:27.479177Z",
     "start_time": "2018-11-16T12:14:27.475190Z"
    }
   },
   "outputs": [],
   "source": []
  },
  {
   "cell_type": "code",
   "execution_count": 56,
   "metadata": {
    "ExecuteTime": {
     "end_time": "2018-11-16T11:51:24.191181Z",
     "start_time": "2018-11-16T11:51:23.878018Z"
    }
   },
   "outputs": [],
   "source": [
    "intro=\"\"\n",
    "link=\"C:\\\\Users\\\\murat_gga8ya6\\\\Desktop\\\\RSG\\\\hackathon-rsg-paper\\\\PMC\\\\Bioinformatics\\\\\"\n",
    "file_names=os.listdir(link)\n",
    "for i in file_names[:100]:\n",
    "    f= open(link+i, encoding=\"utf8\")\n",
    "    text=f.read()\n",
    "    s=re.search('==== Body(.*)==== Refs',text.replace(\"\\n\",\" \"))\n",
    "    if not s is None:\n",
    "        intro=intro+s.group(1)\n",
    "    f.close()"
   ]
  },
  {
   "cell_type": "code",
   "execution_count": 70,
   "metadata": {
    "ExecuteTime": {
     "end_time": "2018-11-16T11:56:24.773143Z",
     "start_time": "2018-11-16T11:56:24.657438Z"
    }
   },
   "outputs": [
    {
     "data": {
      "text/plain": [
       "array(['AAAAACCTTCATTTTATTTTATCTCCA', 'AAACACATCAGCAGCTTCAATACC',\n",
       "       'AAAGGTTCAACT', 'AATAAA', 'AATAAACA', 'AATACGTAC', 'AAUAAA',\n",
       "       'ACAACA', 'ACAACACTTAA', 'ACAACACTTAAAGGTTCAACTAGCAATA',\n",
       "       'ACATTCCAGCCCCAAAACC', 'ACCOUNTS', 'ACKNOWLEDEGMENTS',\n",
       "       'ACKNOWLEDGEMENT', 'ACKNOWLEDGEMENTS', 'ACKNOWLEDGMENTS',\n",
       "       'ACTTTTGAGTTAGGCCCTTTTT', 'ADMINISTRATION', 'AGACGTG',\n",
       "       'AGCAGCTCGTAATGCATCCT', 'AGGTAAG', 'AGGTAAGT', 'AGMIAL', 'AGTAGT',\n",
       "       'AGTAGTG', 'AGTCAGTT', 'ALGORITHM', 'ALGORITHMIC', 'ALGORITHMS',\n",
       "       'ALIGNING', 'ANALYSIS', 'APPENDIX', 'APPLICATION', 'APPLICATIONS',\n",
       "       'APPROACH', 'APPROXMGD', 'AREVIR', 'ARGUMENTATION', 'ARGUMENTION',\n",
       "       'ARGUMENTS', 'ASPECTS', 'ASTRAL', 'ATATAAA', 'ATATTAT', 'ATGTGCTA',\n",
       "       'AUGIST', 'AVAILABILITY', 'BACKBONE', 'BACKGROUND', 'BACKRUB',\n",
       "       'BASELINE', 'BATWING', 'BEHAVIOR', 'BENCHMARKING', 'BERNWARD',\n",
       "       'BIGINT', 'BINARY', 'BIOACTIVITY', 'BIOLOGICAL', 'BIOLOGISTS',\n",
       "       'BIOLOGY', 'BIOMEDICAL', 'BIOSIM', 'BIOVITRUM', 'BLASTCLUST',\n",
       "       'BLASTN', 'BLOCKS', 'BLOSUM', 'BOOLEAN', 'BRENDA',\n",
       "       'CACAATCGTTATGCGAAAATG', 'CACASA', 'CACTTAAAGGTT', 'CAGTCAGT',\n",
       "       'CARAPIORI', 'CARAPRIORI', 'CAREER', 'CATACC',\n",
       "       'CCCCCAAAGATTTGTCTGAA', 'CCCCCC', 'CEPCEB', 'CGCGCGC',\n",
       "       'CGGCGGGCTTATATTAAAAA', 'CGTCAGTT', 'CGTCGCG', 'CGYGYG', 'CHANNEL',\n",
       "       'CLASSIFICATION', 'CLUSTAL', 'COMGRIO', 'COMMON', 'COMPATIBILITY',\n",
       "       'COMPLEXITY', 'COMPOUND', 'COMPOUNDS', 'COMPUTATIONAL', 'COMPUTER',\n",
       "       'COMPUTING', 'CONCLUSION', 'CONCLUSIONS', 'CONCURRENT',\n",
       "       'CONSISTENT', 'CONTRA', 'COROLLARY', 'CORRELATIONS', 'COUNTING',\n",
       "       'CTJPGIS', 'DAGSVM', 'DATABASEID', 'DATABASES', 'DATASETS',\n",
       "       'DECIPHER', 'DEFINITION', 'DEFINITIONS', 'DESCRIPTION', 'DESIGN',\n",
       "       'DETECTION', 'DINAMELT', 'DIPLOID', 'DIRECTIONS', 'DISCUSSION',\n",
       "       'DISCUSSIONS', 'DISOPRED', 'DISTANCE', 'DISTRIBUTION',\n",
       "       'DISTRIBUTIONS', 'DIYABC', 'DNTTIP', 'DOUBLING', 'DRIPPRED',\n",
       "       'EFFICIENT', 'EMBOSS', 'ENCODE', 'ENGINE', 'ENSEMBL', 'ENSRNOP',\n",
       "       'ENTITIES', 'ENZYME', 'EPTIDE', 'ESTIMATESTTIMES',\n",
       "       'ESTIMATESTTOPOLOGY', 'EVALUATION', 'EVALUATIONS', 'EXACTMGD',\n",
       "       'EXAMPLE', 'EXAMPLES', 'EXENTIONS', 'EXPASY', 'EXPERIMENTAL',\n",
       "       'EXPERIMENTS', 'EXPRESSION', 'EXTREME', 'FEATURE', 'FEATURES',\n",
       "       'FINDANCESTOR', 'FINGERPRINTS', 'FOLDALIGN', 'FORMALIZATION',\n",
       "       'FORMALIZED', 'FORMULATION', 'FRISYS', 'FUNCTION', 'FUTURE',\n",
       "       'FYWHDNC', 'GATAATTTAGATGCCCCAAACCAA', 'GATTACA', 'GAVLIFYWM',\n",
       "       'GCACACCGATCCTTTCTCTT', 'GCGAACTTAACGGGATCTCA', 'GCGCGC',\n",
       "       'GCGCGCGC', 'GENCODE', 'GENDERID', 'GENERAL', 'GENERATING',\n",
       "       'GENOME', 'GENOMIC', 'GENOQUERY', 'GETCONNECTIVITYGRAPH', 'GGGGGG',\n",
       "       'GGTAAGT', 'GGTAGGT', 'GGTCAGTT', 'GGTGGG', 'GRAPPA', 'GREEDY',\n",
       "       'GTATAAA', 'GTATATA', 'GTCAGTTT', 'HALVING', 'HMMTOP', 'HUMARA',\n",
       "       'IMPBIO', 'IMPLEMENTATION', 'IMPLICATIONS', 'INFERENCE',\n",
       "       'INFLUENCE', 'INTARNA', 'INTRODUCTION', 'INVOLVED', 'ISTZORAN',\n",
       "       'JULIEL', 'KNOWLEDGE', 'LABELTREE', 'LALIGN', 'LIGAND',\n",
       "       'LOADEDGES', 'LOOKAHEAD', 'MACHOS', 'MALLET', 'MATERIAL',\n",
       "       'MATERIALS', 'MATLAB', 'MAXIMUM', 'MEDIAN', 'MEDLINE', 'METHOD',\n",
       "       'METHODS', 'METRIC', 'MISGEPOP', 'MITACS', 'MODBASE', 'MODELING',\n",
       "       'MODELLER', 'MODELS', 'MODIFIER', 'MODULE', 'MOLECULAR',\n",
       "       'MONITORING', 'MRCAST', 'MUSCLE', 'MUTATIONS', 'MVAPICH', 'NETCAR',\n",
       "       'NETWORKS', 'NOTATION', 'NUCLEOSOME', 'NUMBER', 'ONTOLOGIES',\n",
       "       'ONTOLOGY', 'OPTICS', 'OUTLOOK', 'OVERVIEW', 'PACKAGE', 'PAIRFOLD',\n",
       "       'PASCAL', 'PECASE', 'PEPMORPH', 'PEPTID', 'PEPTIDE', 'PERCENT',\n",
       "       'PERFORMANCE', 'PHYLOGENETIC', 'PISCES', 'POPULATION',\n",
       "       'PREDICTION', 'PRELIMINARIES', 'PREVIOUS', 'PRINTS',\n",
       "       'PROBABILISTIC', 'PROBLEM', 'PROBLEMS', 'PROCEDURES', 'PROCHECK',\n",
       "       'PROGRAM', 'PROGRESS', 'PROLOG', 'PROPOSITION', 'PROSERVER',\n",
       "       'PROSITE', 'PROSPECT', 'PROTEIN', 'PROTEINS', 'PROTEUS',\n",
       "       'PROTOCOLS', 'PSIPRED', 'QUERYING', 'README', 'RECORDED', 'REDUCE',\n",
       "       'REDUCTION', 'REFERENCE', 'RELATED', 'REMARKS', 'REPRESENTATION',\n",
       "       'REPRESENTATIONS', 'REQUIREMENTS', 'RESCUE', 'RESULT', 'RESULTS',\n",
       "       'REWERSE', 'RISKID', 'RKDENQ', 'RNACOFOLD', 'RNADUPLEX',\n",
       "       'RNAHYBRID', 'RNAPLEX', 'RNAPLFOLD', 'RNASEL', 'ROSETTA',\n",
       "       'SAPIENS', 'SCORES', 'SCORING', 'SECONDARY', 'SELECTCHILD',\n",
       "       'SELECTION', 'SELECTPARENT', 'SEQUENCING', 'SEQUEST', 'SERIES',\n",
       "       'SHARCNET', 'SHOGUN', 'SIBLING', 'SIGNIFICANCE', 'SIMCOMP',\n",
       "       'SIMILARITY', 'SMILES', 'SNOMED', 'SOFTWARE', 'SSEARCH',\n",
       "       'STATEMENT', 'STATISTICAL', 'STATISTICS', 'STRING', 'STUDIES',\n",
       "       'SUBDUE', 'SUBGRAPH', 'SUBGRAPHS', 'SUMMARY', 'SUPERFAMILY',\n",
       "       'SYSTEM', 'TARGETRNA', 'TASSER', 'TATAAA', 'TATAAAA', 'TATAAAG',\n",
       "       'TATATAA', 'TBLASTN', 'TCAGTT', 'TCAGTTGT',\n",
       "       'TCCCATGCTCTATTATCTTTGG', 'TGCTCCTAAAACATTTCCCATA',\n",
       "       'TGGGTAAGTTTAAAGCGATTTTT', 'TGGTCATTCTTATCCTTCACATGAA',\n",
       "       'TGGTGGGTAA', 'TGTGTG', 'THEOREM', 'THEORETICAL', 'THEORY',\n",
       "       'THRESHOLD', 'TIGRFAM', 'TOPDOM', 'TRANSFAC', 'TRANSMEM',\n",
       "       'TREATMENT', 'TREATMENTS', 'TTTCAGA', 'TTTCAGG', 'TTTTCAG',\n",
       "       'TTTTTGAGAGTGACTTTGAATGC', 'TTTTTTT', 'UNKNOWN', 'VALIDATION',\n",
       "       'VALUES', 'VECTOR', 'VERIFY', 'WARSHALL', 'YILMFWC', 'ZOONET'],\n",
       "      dtype='<U28')"
      ]
     },
     "execution_count": 70,
     "metadata": {},
     "output_type": "execute_result"
    }
   ],
   "source": [
    "np.unique([i for i in re.findall(\"([A-Z]+)\",intro) if len(i)> 5])"
   ]
  }
 ],
 "metadata": {
  "hide_input": false,
  "kernelspec": {
   "display_name": "Python 3",
   "language": "python",
   "name": "python3"
  },
  "language_info": {
   "codemirror_mode": {
    "name": "ipython",
    "version": 3
   },
   "file_extension": ".py",
   "mimetype": "text/x-python",
   "name": "python",
   "nbconvert_exporter": "python",
   "pygments_lexer": "ipython3",
   "version": "3.7.0"
  },
  "toc": {
   "base_numbering": 1,
   "nav_menu": {},
   "number_sections": true,
   "sideBar": true,
   "skip_h1_title": false,
   "title_cell": "Table of Contents",
   "title_sidebar": "Contents",
   "toc_cell": false,
   "toc_position": {},
   "toc_section_display": true,
   "toc_window_display": false
  },
  "varInspector": {
   "cols": {
    "lenName": 16,
    "lenType": 16,
    "lenVar": 40
   },
   "kernels_config": {
    "python": {
     "delete_cmd_postfix": "",
     "delete_cmd_prefix": "del ",
     "library": "var_list.py",
     "varRefreshCmd": "print(var_dic_list())"
    },
    "r": {
     "delete_cmd_postfix": ") ",
     "delete_cmd_prefix": "rm(",
     "library": "var_list.r",
     "varRefreshCmd": "cat(var_dic_list()) "
    }
   },
   "types_to_exclude": [
    "module",
    "function",
    "builtin_function_or_method",
    "instance",
    "_Feature"
   ],
   "window_display": false
  }
 },
 "nbformat": 4,
 "nbformat_minor": 2
}
