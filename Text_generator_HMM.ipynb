{
 "cells": [
  {
   "cell_type": "code",
   "execution_count": 55,
   "metadata": {
    "ExecuteTime": {
     "end_time": "2018-11-16T16:02:19.350611Z",
     "start_time": "2018-11-16T16:02:19.338643Z"
    }
   },
   "outputs": [],
   "source": [
    "import markovify\n",
    "import pandas as pd\n",
    "import os\n",
    "import re\n",
    "import pylab\n",
    "import numpy as np\n",
    "import numpy.random\n",
    "import matplotlib.pyplot as plt\n",
    "from PIL import Image\n",
    "\n",
    "def find_section(word_list, link):\n",
    "    section=\"\"\n",
    "    file_names=os.listdir(link)\n",
    "    for i in file_names:\n",
    "        f= open(link+i, encoding=\"utf8\")\n",
    "        text=f.read()\n",
    "        s=re.search(re.escape(word_list[0])+r\"(.*)\"+re.escape(word_list[1]),text.replace(\"\\n\",\" \"))\n",
    "        if not s is None:\n",
    "            section=section+s.group(1)\n",
    "        f.close()\n",
    "    return section\n",
    "\n",
    "def make_article(reference_link, section_str_dict,section_len_dict):\n",
    "    whole_article=\"\"\n",
    "    for i in section_str_dict.keys():\n",
    "        section_input=\"\"\n",
    "        for j in section_str_dict.get(i):\n",
    "            section_input=section_input+find_section(j,reference_link)\n",
    "        model=markovify.Text(section_input)\n",
    "        section_output=\"\"\n",
    "        for t in range(section_len_dict.get(i)):\n",
    "            section_output=section_output+\" \"+model.make_sentence()\n",
    "        if i==\"RESULTS\":\n",
    "            if \" table\" in section_output.lower():\n",
    "                section_output=section_output+\"\\n\"+pd.DataFrame(np.random.random((5,5))).to_latex()\n",
    "            if \" figure\" in section_output.lower():\n",
    "                x = np.random.randn(5000)\n",
    "                y = np.random.randn(5000)\n",
    "                heatmap, xedges, yedges = np.histogram2d(x, y, bins=50)\n",
    "                plt.clf()\n",
    "                plt.imshow(heatmap.T)\n",
    "                plt.savefig(os.getcwd()+\"\\\\result_image.png\")\n",
    "                section_output=section_output+\"\\n\"+\"\\\\begin{figure}[H]\\n\\centering\\n\\includegraphics*[width=1\\\\textwidth]{result_image.png}\\n\\end{figure}\"\n",
    "        whole_article=whole_article+\" \"+\"\\section{\"+i+\"}\\n\"+section_output+\"\\n\"\n",
    "    return whole_article"
   ]
  },
  {
   "cell_type": "code",
   "execution_count": null,
   "metadata": {
    "ExecuteTime": {
     "start_time": "2018-11-16T16:05:49.192Z"
    },
    "scrolled": true
   },
   "outputs": [],
   "source": [
    "reference_link=\"C:\\\\Users\\\\murat_gga8ya6\\\\Desktop\\\\RSG\\\\hackathon-rsg-paper\\\\PMC\\\\Bioinformatics\\\\\"\n",
    "section_str_dict={\"Motivation\":[(\"Motivation\",\"Results\")],\"Results\":[(\"Results\",\"Availability\")],\"Availability\":[(\"Availability\",\"Contact\")],\"INTRODUCTION\":[(\"INTRODUCTION\",\"RESULTS\")],\"METHODS\":[(\"METHODS\",\"RESULT\"),(\"METHODS\",\"RESULTS\"),(\"METHOD\",\"RESULT\"),(\"METHOD\",\"RESULTS\")],\"RESULTS\":[(\"RESULTS\",\"DISCUSSION\"),(\"RESULT\",\"DISCUSSION\"),(\"RESULTS\",\"DISCUSSIONS\"),(\"RESULT\",\"DISCUSSIONS\")],\"DISCUSSION\":[(\"DISCUSSIONS\",\"CONCLUSION\"),(\"DISCUSSION\",\"CONCLUSION\"),(\"DISCUSSIONS\",\"CONCLUSIONS\"),(\"DISCUSSION\",\"CONCLUSIONS\")],\"CONCLUSIONS\":[(\"CONCLUSIONS\",\"AVAILABILITY\"),(\"CONCLUSION\",\"ACKNOWLEDGMENTS\"),(\"CONCLUSIONS\",\"FUNDING\")]}\n",
    "section_len_dict={\"Motivation\":3,\"Results\":3,\"Availability\":1,\"INTRODUCTION\":10,\"METHODS\":10,\"RESULTS\":15,\"DISCUSSION\":5,\"CONCLUSIONS\":5}\n",
    "result=make_article(reference_link,section_str_dict,section_len_dict)\n",
    "print(result)"
   ]
  },
  {
   "cell_type": "code",
   "execution_count": null,
   "metadata": {
    "ExecuteTime": {
     "end_time": "2018-11-16T13:53:58.645294Z",
     "start_time": "2018-11-16T13:53:58.633690Z"
    }
   },
   "outputs": [],
   "source": []
  },
  {
   "cell_type": "code",
   "execution_count": null,
   "metadata": {
    "ExecuteTime": {
     "end_time": "2018-11-16T10:59:35.346517Z",
     "start_time": "2018-11-16T10:59:35.315600Z"
    }
   },
   "outputs": [],
   "source": []
  },
  {
   "cell_type": "code",
   "execution_count": null,
   "metadata": {
    "ExecuteTime": {
     "end_time": "2018-11-16T13:56:00.187105Z",
     "start_time": "2018-11-16T13:56:00.166895Z"
    }
   },
   "outputs": [],
   "source": []
  },
  {
   "cell_type": "code",
   "execution_count": null,
   "metadata": {
    "ExecuteTime": {
     "end_time": "2018-11-16T13:34:36.917907Z",
     "start_time": "2018-11-16T13:34:36.912652Z"
    }
   },
   "outputs": [],
   "source": []
  },
  {
   "cell_type": "code",
   "execution_count": null,
   "metadata": {
    "ExecuteTime": {
     "end_time": "2018-11-16T12:52:00.695879Z",
     "start_time": "2018-11-16T12:52:00.688414Z"
    }
   },
   "outputs": [],
   "source": []
  },
  {
   "cell_type": "code",
   "execution_count": null,
   "metadata": {
    "ExecuteTime": {
     "end_time": "2018-11-16T12:53:38.713549Z",
     "start_time": "2018-11-16T12:53:38.702239Z"
    }
   },
   "outputs": [],
   "source": []
  },
  {
   "cell_type": "code",
   "execution_count": null,
   "metadata": {
    "ExecuteTime": {
     "end_time": "2018-11-16T11:00:19.266968Z",
     "start_time": "2018-11-16T11:00:19.227076Z"
    }
   },
   "outputs": [],
   "source": []
  },
  {
   "cell_type": "code",
   "execution_count": null,
   "metadata": {
    "ExecuteTime": {
     "end_time": "2018-11-16T11:01:09.194676Z",
     "start_time": "2018-11-16T11:01:09.154788Z"
    }
   },
   "outputs": [],
   "source": []
  },
  {
   "cell_type": "code",
   "execution_count": null,
   "metadata": {
    "ExecuteTime": {
     "end_time": "2018-11-16T11:01:21.200441Z",
     "start_time": "2018-11-16T11:01:21.176491Z"
    }
   },
   "outputs": [],
   "source": []
  },
  {
   "cell_type": "code",
   "execution_count": null,
   "metadata": {
    "ExecuteTime": {
     "end_time": "2018-11-16T11:43:47.917007Z",
     "start_time": "2018-11-16T11:43:47.883099Z"
    }
   },
   "outputs": [],
   "source": []
  },
  {
   "cell_type": "code",
   "execution_count": null,
   "metadata": {
    "ExecuteTime": {
     "end_time": "2018-11-16T12:28:58.345112Z",
     "start_time": "2018-11-16T12:28:58.341119Z"
    },
    "scrolled": true
   },
   "outputs": [],
   "source": []
  },
  {
   "cell_type": "code",
   "execution_count": null,
   "metadata": {
    "ExecuteTime": {
     "end_time": "2018-11-16T12:14:27.467212Z",
     "start_time": "2018-11-16T12:14:27.330575Z"
    }
   },
   "outputs": [],
   "source": []
  },
  {
   "cell_type": "code",
   "execution_count": null,
   "metadata": {
    "ExecuteTime": {
     "end_time": "2018-11-16T12:14:27.479177Z",
     "start_time": "2018-11-16T12:14:27.475190Z"
    }
   },
   "outputs": [],
   "source": []
  },
  {
   "cell_type": "code",
   "execution_count": 56,
   "metadata": {
    "ExecuteTime": {
     "end_time": "2018-11-16T11:51:24.191181Z",
     "start_time": "2018-11-16T11:51:23.878018Z"
    }
   },
   "outputs": [],
   "source": [
    "intro=\"\"\n",
    "link=\"C:\\\\Users\\\\murat_gga8ya6\\\\Desktop\\\\RSG\\\\hackathon-rsg-paper\\\\PMC\\\\Bioinformatics\\\\\"\n",
    "file_names=os.listdir(link)\n",
    "for i in file_names[:100]:\n",
    "    f= open(link+i, encoding=\"utf8\")\n",
    "    text=f.read()\n",
    "    s=re.search('==== Body(.*)==== Refs',text.replace(\"\\n\",\" \"))\n",
    "    if not s is None:\n",
    "        intro=intro+s.group(1)\n",
    "    f.close()"
   ]
  },
  {
   "cell_type": "code",
   "execution_count": 70,
   "metadata": {
    "ExecuteTime": {
     "end_time": "2018-11-16T11:56:24.773143Z",
     "start_time": "2018-11-16T11:56:24.657438Z"
    }
   },
   "outputs": [
    {
     "data": {
      "text/plain": [
       "array(['AAAAACCTTCATTTTATTTTATCTCCA', 'AAACACATCAGCAGCTTCAATACC',\n",
       "       'AAAGGTTCAACT', 'AATAAA', 'AATAAACA', 'AATACGTAC', 'AAUAAA',\n",
       "       'ACAACA', 'ACAACACTTAA', 'ACAACACTTAAAGGTTCAACTAGCAATA',\n",
       "       'ACATTCCAGCCCCAAAACC', 'ACCOUNTS', 'ACKNOWLEDEGMENTS',\n",
       "       'ACKNOWLEDGEMENT', 'ACKNOWLEDGEMENTS', 'ACKNOWLEDGMENTS',\n",
       "       'ACTTTTGAGTTAGGCCCTTTTT', 'ADMINISTRATION', 'AGACGTG',\n",
       "       'AGCAGCTCGTAATGCATCCT', 'AGGTAAG', 'AGGTAAGT', 'AGMIAL', 'AGTAGT',\n",
       "       'AGTAGTG', 'AGTCAGTT', 'ALGORITHM', 'ALGORITHMIC', 'ALGORITHMS',\n",
       "       'ALIGNING', 'ANALYSIS', 'APPENDIX', 'APPLICATION', 'APPLICATIONS',\n",
       "       'APPROACH', 'APPROXMGD', 'AREVIR', 'ARGUMENTATION', 'ARGUMENTION',\n",
       "       'ARGUMENTS', 'ASPECTS', 'ASTRAL', 'ATATAAA', 'ATATTAT', 'ATGTGCTA',\n",
       "       'AUGIST', 'AVAILABILITY', 'BACKBONE', 'BACKGROUND', 'BACKRUB',\n",
       "       'BASELINE', 'BATWING', 'BEHAVIOR', 'BENCHMARKING', 'BERNWARD',\n",
       "       'BIGINT', 'BINARY', 'BIOACTIVITY', 'BIOLOGICAL', 'BIOLOGISTS',\n",
       "       'BIOLOGY', 'BIOMEDICAL', 'BIOSIM', 'BIOVITRUM', 'BLASTCLUST',\n",
       "       'BLASTN', 'BLOCKS', 'BLOSUM', 'BOOLEAN', 'BRENDA',\n",
       "       'CACAATCGTTATGCGAAAATG', 'CACASA', 'CACTTAAAGGTT', 'CAGTCAGT',\n",
       "       'CARAPIORI', 'CARAPRIORI', 'CAREER', 'CATACC',\n",
       "       'CCCCCAAAGATTTGTCTGAA', 'CCCCCC', 'CEPCEB', 'CGCGCGC',\n",
       "       'CGGCGGGCTTATATTAAAAA', 'CGTCAGTT', 'CGTCGCG', 'CGYGYG', 'CHANNEL',\n",
       "       'CLASSIFICATION', 'CLUSTAL', 'COMGRIO', 'COMMON', 'COMPATIBILITY',\n",
       "       'COMPLEXITY', 'COMPOUND', 'COMPOUNDS', 'COMPUTATIONAL', 'COMPUTER',\n",
       "       'COMPUTING', 'CONCLUSION', 'CONCLUSIONS', 'CONCURRENT',\n",
       "       'CONSISTENT', 'CONTRA', 'COROLLARY', 'CORRELATIONS', 'COUNTING',\n",
       "       'CTJPGIS', 'DAGSVM', 'DATABASEID', 'DATABASES', 'DATASETS',\n",
       "       'DECIPHER', 'DEFINITION', 'DEFINITIONS', 'DESCRIPTION', 'DESIGN',\n",
       "       'DETECTION', 'DINAMELT', 'DIPLOID', 'DIRECTIONS', 'DISCUSSION',\n",
       "       'DISCUSSIONS', 'DISOPRED', 'DISTANCE', 'DISTRIBUTION',\n",
       "       'DISTRIBUTIONS', 'DIYABC', 'DNTTIP', 'DOUBLING', 'DRIPPRED',\n",
       "       'EFFICIENT', 'EMBOSS', 'ENCODE', 'ENGINE', 'ENSEMBL', 'ENSRNOP',\n",
       "       'ENTITIES', 'ENZYME', 'EPTIDE', 'ESTIMATESTTIMES',\n",
       "       'ESTIMATESTTOPOLOGY', 'EVALUATION', 'EVALUATIONS', 'EXACTMGD',\n",
       "       'EXAMPLE', 'EXAMPLES', 'EXENTIONS', 'EXPASY', 'EXPERIMENTAL',\n",
       "       'EXPERIMENTS', 'EXPRESSION', 'EXTREME', 'FEATURE', 'FEATURES',\n",
       "       'FINDANCESTOR', 'FINGERPRINTS', 'FOLDALIGN', 'FORMALIZATION',\n",
       "       'FORMALIZED', 'FORMULATION', 'FRISYS', 'FUNCTION', 'FUTURE',\n",
       "       'FYWHDNC', 'GATAATTTAGATGCCCCAAACCAA', 'GATTACA', 'GAVLIFYWM',\n",
       "       'GCACACCGATCCTTTCTCTT', 'GCGAACTTAACGGGATCTCA', 'GCGCGC',\n",
       "       'GCGCGCGC', 'GENCODE', 'GENDERID', 'GENERAL', 'GENERATING',\n",
       "       'GENOME', 'GENOMIC', 'GENOQUERY', 'GETCONNECTIVITYGRAPH', 'GGGGGG',\n",
       "       'GGTAAGT', 'GGTAGGT', 'GGTCAGTT', 'GGTGGG', 'GRAPPA', 'GREEDY',\n",
       "       'GTATAAA', 'GTATATA', 'GTCAGTTT', 'HALVING', 'HMMTOP', 'HUMARA',\n",
       "       'IMPBIO', 'IMPLEMENTATION', 'IMPLICATIONS', 'INFERENCE',\n",
       "       'INFLUENCE', 'INTARNA', 'INTRODUCTION', 'INVOLVED', 'ISTZORAN',\n",
       "       'JULIEL', 'KNOWLEDGE', 'LABELTREE', 'LALIGN', 'LIGAND',\n",
       "       'LOADEDGES', 'LOOKAHEAD', 'MACHOS', 'MALLET', 'MATERIAL',\n",
       "       'MATERIALS', 'MATLAB', 'MAXIMUM', 'MEDIAN', 'MEDLINE', 'METHOD',\n",
       "       'METHODS', 'METRIC', 'MISGEPOP', 'MITACS', 'MODBASE', 'MODELING',\n",
       "       'MODELLER', 'MODELS', 'MODIFIER', 'MODULE', 'MOLECULAR',\n",
       "       'MONITORING', 'MRCAST', 'MUSCLE', 'MUTATIONS', 'MVAPICH', 'NETCAR',\n",
       "       'NETWORKS', 'NOTATION', 'NUCLEOSOME', 'NUMBER', 'ONTOLOGIES',\n",
       "       'ONTOLOGY', 'OPTICS', 'OUTLOOK', 'OVERVIEW', 'PACKAGE', 'PAIRFOLD',\n",
       "       'PASCAL', 'PECASE', 'PEPMORPH', 'PEPTID', 'PEPTIDE', 'PERCENT',\n",
       "       'PERFORMANCE', 'PHYLOGENETIC', 'PISCES', 'POPULATION',\n",
       "       'PREDICTION', 'PRELIMINARIES', 'PREVIOUS', 'PRINTS',\n",
       "       'PROBABILISTIC', 'PROBLEM', 'PROBLEMS', 'PROCEDURES', 'PROCHECK',\n",
       "       'PROGRAM', 'PROGRESS', 'PROLOG', 'PROPOSITION', 'PROSERVER',\n",
       "       'PROSITE', 'PROSPECT', 'PROTEIN', 'PROTEINS', 'PROTEUS',\n",
       "       'PROTOCOLS', 'PSIPRED', 'QUERYING', 'README', 'RECORDED', 'REDUCE',\n",
       "       'REDUCTION', 'REFERENCE', 'RELATED', 'REMARKS', 'REPRESENTATION',\n",
       "       'REPRESENTATIONS', 'REQUIREMENTS', 'RESCUE', 'RESULT', 'RESULTS',\n",
       "       'REWERSE', 'RISKID', 'RKDENQ', 'RNACOFOLD', 'RNADUPLEX',\n",
       "       'RNAHYBRID', 'RNAPLEX', 'RNAPLFOLD', 'RNASEL', 'ROSETTA',\n",
       "       'SAPIENS', 'SCORES', 'SCORING', 'SECONDARY', 'SELECTCHILD',\n",
       "       'SELECTION', 'SELECTPARENT', 'SEQUENCING', 'SEQUEST', 'SERIES',\n",
       "       'SHARCNET', 'SHOGUN', 'SIBLING', 'SIGNIFICANCE', 'SIMCOMP',\n",
       "       'SIMILARITY', 'SMILES', 'SNOMED', 'SOFTWARE', 'SSEARCH',\n",
       "       'STATEMENT', 'STATISTICAL', 'STATISTICS', 'STRING', 'STUDIES',\n",
       "       'SUBDUE', 'SUBGRAPH', 'SUBGRAPHS', 'SUMMARY', 'SUPERFAMILY',\n",
       "       'SYSTEM', 'TARGETRNA', 'TASSER', 'TATAAA', 'TATAAAA', 'TATAAAG',\n",
       "       'TATATAA', 'TBLASTN', 'TCAGTT', 'TCAGTTGT',\n",
       "       'TCCCATGCTCTATTATCTTTGG', 'TGCTCCTAAAACATTTCCCATA',\n",
       "       'TGGGTAAGTTTAAAGCGATTTTT', 'TGGTCATTCTTATCCTTCACATGAA',\n",
       "       'TGGTGGGTAA', 'TGTGTG', 'THEOREM', 'THEORETICAL', 'THEORY',\n",
       "       'THRESHOLD', 'TIGRFAM', 'TOPDOM', 'TRANSFAC', 'TRANSMEM',\n",
       "       'TREATMENT', 'TREATMENTS', 'TTTCAGA', 'TTTCAGG', 'TTTTCAG',\n",
       "       'TTTTTGAGAGTGACTTTGAATGC', 'TTTTTTT', 'UNKNOWN', 'VALIDATION',\n",
       "       'VALUES', 'VECTOR', 'VERIFY', 'WARSHALL', 'YILMFWC', 'ZOONET'],\n",
       "      dtype='<U28')"
      ]
     },
     "execution_count": 70,
     "metadata": {},
     "output_type": "execute_result"
    }
   ],
   "source": [
    "np.unique([i for i in re.findall(\"([A-Z]+)\",intro) if len(i)> 5])"
   ]
  }
 ],
 "metadata": {
  "hide_input": false,
  "kernelspec": {
   "display_name": "Python 3",
   "language": "python",
   "name": "python3"
  },
  "language_info": {
   "codemirror_mode": {
    "name": "ipython",
    "version": 3
   },
   "file_extension": ".py",
   "mimetype": "text/x-python",
   "name": "python",
   "nbconvert_exporter": "python",
   "pygments_lexer": "ipython3",
   "version": "3.7.0"
  },
  "toc": {
   "base_numbering": 1,
   "nav_menu": {},
   "number_sections": true,
   "sideBar": true,
   "skip_h1_title": false,
   "title_cell": "Table of Contents",
   "title_sidebar": "Contents",
   "toc_cell": false,
   "toc_position": {},
   "toc_section_display": true,
   "toc_window_display": false
  },
  "varInspector": {
   "cols": {
    "lenName": 16,
    "lenType": 16,
    "lenVar": 40
   },
   "kernels_config": {
    "python": {
     "delete_cmd_postfix": "",
     "delete_cmd_prefix": "del ",
     "library": "var_list.py",
     "varRefreshCmd": "print(var_dic_list())"
    },
    "r": {
     "delete_cmd_postfix": ") ",
     "delete_cmd_prefix": "rm(",
     "library": "var_list.r",
     "varRefreshCmd": "cat(var_dic_list()) "
    }
   },
   "types_to_exclude": [
    "module",
    "function",
    "builtin_function_or_method",
    "instance",
    "_Feature"
   ],
   "window_display": false
  }
 },
 "nbformat": 4,
 "nbformat_minor": 2
}
