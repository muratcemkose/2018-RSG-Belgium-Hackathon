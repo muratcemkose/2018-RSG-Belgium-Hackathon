{
 "cells": [
  {
   "cell_type": "code",
   "execution_count": 42,
   "metadata": {
    "ExecuteTime": {
     "end_time": "2018-11-16T14:43:57.407212Z",
     "start_time": "2018-11-16T14:43:57.397464Z"
    }
   },
   "outputs": [],
   "source": [
    "import markovify\n",
    "import pandas as pd\n",
    "import os\n",
    "import re\n",
    "import pylab\n",
    "import numpy as np\n",
    "import numpy.random\n",
    "import matplotlib.pyplot as plt\n",
    "from PIL import Image\n",
    "\n",
    "def find_section(word_list, link):\n",
    "    section=\"\"\n",
    "    file_names=os.listdir(link)\n",
    "    for i in file_names:\n",
    "        f= open(link+i, encoding=\"utf8\")\n",
    "        text=f.read()\n",
    "        s=re.search(re.escape(word_list[0])+r\"(.*)\"+re.escape(word_list[1]),text.replace(\"\\n\",\" \"))\n",
    "        if not s is None:\n",
    "            section=section+s.group(1)\n",
    "        f.close()\n",
    "    return section\n",
    "\n",
    "def make_article(reference_link, section_str_dict,section_len_dict):\n",
    "    whole_article=\"\"\n",
    "    for i in section_str_dict.keys():\n",
    "        section_input=\"\"\n",
    "        for j in section_str_dict.get(i):\n",
    "            section_input=section_input+find_section(j,reference_link)\n",
    "        model=markovify.Text(section_input)\n",
    "        section_output=\"\"\n",
    "        for t in range(section_len_dict.get(i)):\n",
    "            section_output=section_output+\" \"+model.make_sentence()\n",
    "        if i==\"RESULTS\":\n",
    "            if \" table\" in section_output.lower():\n",
    "                section_output=section_output+\"\\n\"+pd.DataFrame(np.random.random((5,5))).to_latex()\n",
    "            if\" figure\" in section_output.lower():\n",
    "                x = np.random.randn(5000)\n",
    "                y = np.random.randn(5000)\n",
    "                heatmap, xedges, yedges = np.histogram2d(x, y, bins=50)\n",
    "                plt.clf()\n",
    "                plt.savefig(os.getcwd()+\"\\\\result_image.png\")\n",
    "                section_output=section_output+\"\\n\"+\"\\\\begin{figure}[H]\\n\\centering\\n\\includegraphics*[width=1\\\\textwidth]{result_image.png}\\n\\end{figure}\"\n",
    "        whole_article=whole_article+\" \"+i+\"\\n\"+section_output+\"\\n\"\n",
    "    return whole_article"
   ]
  },
  {
   "cell_type": "code",
   "execution_count": 23,
   "metadata": {
    "ExecuteTime": {
     "end_time": "2018-11-16T13:53:58.645294Z",
     "start_time": "2018-11-16T13:53:58.633690Z"
    },
    "collapsed": true
   },
   "outputs": [
    {
     "ename": "FileNotFoundError",
     "evalue": "[Errno 2] No such file or directory: 'C:\\\\Users\\\\murat_gga8ya6\\\\Desktop\\\\RSG\\\\hackathon-rsg-paper\\\\PMC\\\\PLoS_Comput_Biol\\\\PLoS_Comput_Biol_2014_Jan_14_10(1)_10_1371_annotation_37bcc34c-7789-4c64-a3cf-902e619f5526.txt'",
     "output_type": "error",
     "traceback": [
      "\u001b[1;31m---------------------------------------------------------------------------\u001b[0m",
      "\u001b[1;31mFileNotFoundError\u001b[0m                         Traceback (most recent call last)",
      "\u001b[1;32m<ipython-input-23-676649077546>\u001b[0m in \u001b[0;36m<module>\u001b[1;34m()\u001b[0m\n\u001b[1;32m----> 1\u001b[1;33m \u001b[1;32mwith\u001b[0m \u001b[0mopen\u001b[0m\u001b[1;33m(\u001b[0m\u001b[1;34m\"C:\\\\Users\\\\murat_gga8ya6\\\\Desktop\\\\RSG\\\\hackathon-rsg-paper\\\\PMC\\\\PLoS_Comput_Biol\\\\PLoS_Comput_Biol_2014_Jan_14_10(1)_10_1371_annotation_37bcc34c-7789-4c64-a3cf-902e619f5526.txt\"\u001b[0m\u001b[1;33m)\u001b[0m \u001b[1;32mas\u001b[0m \u001b[0mf\u001b[0m\u001b[1;33m:\u001b[0m\u001b[1;33m\u001b[0m\u001b[0m\n\u001b[0m\u001b[0;32m      2\u001b[0m     \u001b[0mtext\u001b[0m\u001b[1;33m=\u001b[0m\u001b[0mf\u001b[0m\u001b[1;33m.\u001b[0m\u001b[0mread\u001b[0m\u001b[1;33m(\u001b[0m\u001b[1;33m)\u001b[0m\u001b[1;33m\u001b[0m\u001b[0m\n",
      "\u001b[1;31mFileNotFoundError\u001b[0m: [Errno 2] No such file or directory: 'C:\\\\Users\\\\murat_gga8ya6\\\\Desktop\\\\RSG\\\\hackathon-rsg-paper\\\\PMC\\\\PLoS_Comput_Biol\\\\PLoS_Comput_Biol_2014_Jan_14_10(1)_10_1371_annotation_37bcc34c-7789-4c64-a3cf-902e619f5526.txt'"
     ]
    }
   ],
   "source": [
    "with open(\"C:\\\\Users\\\\murat_gga8ya6\\\\Desktop\\\\RSG\\\\hackathon-rsg-paper\\\\PMC\\\\PLoS_Comput_Biol\\\\PLoS_Comput_Biol_2014_Jan_14_10(1)_10_1371_annotation_37bcc34c-7789-4c64-a3cf-902e619f5526.txt\") as f:\n",
    "    text=f.read()"
   ]
  },
  {
   "cell_type": "code",
   "execution_count": 22,
   "metadata": {
    "ExecuteTime": {
     "end_time": "2018-11-16T10:59:35.346517Z",
     "start_time": "2018-11-16T10:59:35.315600Z"
    }
   },
   "outputs": [],
   "source": [
    "Results_abs=\"\"\n",
    "link=\"C:\\\\Users\\\\murat_gga8ya6\\\\Desktop\\\\RSG\\\\hackathon-rsg-paper\\\\PMC\\\\Bioinformatics\\\\\"\n",
    "file_names=os.listdir(link)\n",
    "for i in file_names[:100]:\n",
    "    f= open(link+i, encoding=\"utf8\")\n",
    "    text=f.read()\n",
    "    s=re.search('Results: (.*)',text)\n",
    "    if not s is None:\n",
    "        Results_abs=Results_abs+s.group(1)\n",
    "    f.close()"
   ]
  },
  {
   "cell_type": "code",
   "execution_count": 44,
   "metadata": {
    "ExecuteTime": {
     "end_time": "2018-11-16T14:50:41.135107Z",
     "start_time": "2018-11-16T14:48:25.437036Z"
    }
   },
   "outputs": [
    {
     "name": "stdout",
     "output_type": "stream",
     "text": [
      " Motivation\n",
      " The ACSEA approach to the four different countries. Other distance measures depend on this scheme whether the predictive phase, we extract 157 directed PPIs, the set and overall data. However, this may be more complex and overlapping pairs.\n",
      " Results\n",
      " A heuristic set of possible state transitions on a benchmark simulated dataset, SHARAKU exhibited superior performance is systematically validated on two real applications, namely cataloging neurite morphology of fruit fly VNC and center brain, which have a characteristic pattern of lateral inhibition conducted by Ato-coordinated Notch and EGFR signaling is essential for a read. Moreover, our computational experiments, the GD method outperformed several comparison methods in terms of yj, we update scores iteratively. For attaining far reaching validity, our investigations cover a wide range of versions into a hierarchy of proteins through a number of simulations and a signal transduction network modeling the haematopoietic stem cell regulators and a case where we used the structures from the dataset.\n",
      " Availability\n",
      " : http://getutopia.com : The R code to implement this method have a collection of at least one of the vector is the PDB by identifying all peak assignments of M1 are marked by a specific residue is used to compute the RMSD measure, and therefore, we also computed the backbone and side chain conformation conditioned on backbone after the decimal point, in Angstrom Å units.\n",
      " INTRODUCTION\n",
      " We compute the rank of each group we recorded the average distance to the other. In this article, we address the above-mentioned quality measures that include phylogenetic tree for conformation sampling algorithm Once the data-driven filter threshold for every MSA, thus there is only included in the successive LASSO runs. In the multi-view setting, each component of any mean parameter is required, as each μ′k⋆ is specific to the spatial relations between existing nodes, allowing for both the Illumina GA can be associated with the developmental tree; the latter to directly learn about the peak summit, the positional information and the datasets we have packaged the EFO-powered search extension as a result of these values in a character assignment for PPIs when either only low-throughput or only offspring data, or by β otherwise. We start with a gene with 10 000+nodes and petabytes of data, making the correct template, chances are that they continue to be the new statistical model for nucleosome positioning, which we call these designs in practice we collapse the vertex with no complicated numerical optimization software. 2.4 Automatic hit validation method All 501 PSMs from the test statistic is not itself independent of each gene tree by grouping reads into k-mers. First, we predict the distances between the two possible nucleotides, whereas the predicted lifestyle of the number of classes. In application scenarios aim at estimating the frequency of peptides the spectrum graph that disagree on orientation. We have to base our approach and ranks all relevant nodes for the relative position of a ‘signal peptide’. For practical applications, the weighted lasso problem over a large part of the different types of analysis usually results in a restaurant with customers. We will first give a brief discussion in the metabolic network.\n",
      " METHODS\n",
      " A positioning degree of freedom. In addition, we want to decompose an additional role, besides guiding the model space than that expected by chance. The subkernels that contribute the largest MCC was calculated. We designed a very fine tokenization, also splitting at all dimensions. In this section, we formulate the Half-breakpoint State Parsimony Problem in order to compare the regions around a single-axis. Every iteration can have potentially N successor states, N being the average depth ≤ β is the standard q-value threshold α, aiming to run against the alternative PCR products of the time with minimal runtime Given the base is part of the more likely the result of the algorithm CRISP for detection of canonical k-mers tend to cover the considered rank. Each 2N base pair exchanges in the Supplementary Material. γ and ϵ parameters and are therefore neither cis nor trans in their signature. A minor subtlety that arises in scientific fields such as automatic PPI extraction is measures in addition to training and test set was <0.7. More specifically, in the context of a small group of blocks already can be stated as follows: where are residues in length.\n",
      " RESULTS\n",
      " We speculate that CREST fails at the other validation sets. In summary, we identify strong symmetrical similarities between WBC and OO. The STRING prior contained 1256 links, 594 of which was constrained for inter-molecular folding, and the maximal number of structural variants, and then tested for interaction. However, the large recent effective population size on assembly quality for different classification methods using model are listed in Supplementary Table S1. 3.1.2 Cancer gene prioritization 3.1.1 Analysis of phenotype prediction error. Intensity distributions of the site of origin for RNA-seq samples. Even though both lists have similar memory usage to that of G1wFlasso and G2wFlasso outperform all of the methods for domains in chimeras and in particular is not appropriate to assign them as insertions. In summary, we can apply the association mapping study in the k=50 case. The power gains include the presence score lies above a given article when compared to MAL8. FDM method over growing number of clusters for which their TF-gene expression for the stories The compressed network obtained for the Strub data, as did subsequent filtering by user specified p-values. The 95% confidence intervals for the same genotypes. As we upweight the likelihoods of being 1000 times we generated another set of simulations. The stringent-cutoff dataset contains a huge impact in terms of precision. We conducted simulation studies are done with an interleave threshold of 1.0 at a higher accuracy is due to particle effects has returned. Supplementary Material we show in Table 2, the POGR and nPOGR scores of the respective row.\n",
      "\\begin{tabular}{lrrrrr}\n",
      "\\toprule\n",
      "{} &         0 &         1 &         2 &         3 &         4 \\\\\n",
      "\\midrule\n",
      "0 &  0.404739 &  0.994450 &  0.582570 &  0.342401 &  0.686200 \\\\\n",
      "1 &  0.213684 &  0.102283 &  0.587607 &  0.256085 &  0.259472 \\\\\n",
      "2 &  0.896532 &  0.521030 &  0.246819 &  0.408837 &  0.586143 \\\\\n",
      "3 &  0.798289 &  0.876833 &  0.784170 &  0.901270 &  0.564391 \\\\\n",
      "4 &  0.177937 &  0.303512 &  0.559369 &  0.553567 &  0.631922 \\\\\n",
      "\\bottomrule\n",
      "\\end{tabular}\n",
      "\n",
      " DISCUSSION\n",
      " The Neighborhood and Oti methods do not seek to identify similarities between sequences based on the proportion of correctly classified patients. As far as we are interested in finding repeats with variable length. Interestingly, the two prioritizations as promising novel candidates for further experimental validation. Since the various tools tested. However, I-value objectively discriminates between the SBFs generated by a Star or mixed-type network.\n",
      " CONCLUSIONS\n",
      " Supplementary Material Supplementary Data We described a novel algorithm, IncaRNAtion, for the detection of structural variation, due to the method. The recent extensions increase the range of species encompassing most organisms under genome investigation. Both scorings lack any statistical explanation and should be regarded as joint First Authors. Additionally, we carried out case studies showing that the amount of ILS was low, where concatenation was more accurate. Another perspective of this work.\n",
      "\n"
     ]
    }
   ],
   "source": [
    "reference_link=\"C:\\\\Users\\\\murat_gga8ya6\\\\Desktop\\\\RSG\\\\hackathon-rsg-paper\\\\PMC\\\\Bioinformatics\\\\\"\n",
    "section_str_dict={\"Motivation\":[(\"Motivation\",\"Results\")],\"Results\":[(\"Results\",\"Availability\")],\"Availability\":[(\"Availability\",\"Contact\")],\"INTRODUCTION\":[(\"INTRODUCTION\",\"RESULTS\")],\"METHODS\":[(\"METHODS\",\"RESULT\"),(\"METHODS\",\"RESULTS\"),(\"METHOD\",\"RESULT\"),(\"METHOD\",\"RESULTS\")],\"RESULTS\":[(\"RESULTS\",\"DISCUSSION\"),(\"RESULT\",\"DISCUSSION\"),(\"RESULTS\",\"DISCUSSIONS\"),(\"RESULT\",\"DISCUSSIONS\")],\"DISCUSSION\":[(\"DISCUSSIONS\",\"CONCLUSION\"),(\"DISCUSSION\",\"CONCLUSION\"),(\"DISCUSSIONS\",\"CONCLUSIONS\"),(\"DISCUSSION\",\"CONCLUSIONS\")],\"CONCLUSIONS\":[(\"CONCLUSIONS\",\"AVAILABILITY\"),(\"CONCLUSION\",\"ACKNOWLEDGMENTS\"),(\"CONCLUSIONS\",\"FUNDING\")]}\n",
    "section_len_dict={\"Motivation\":3,\"Results\":3,\"Availability\":1,\"INTRODUCTION\":10,\"METHODS\":10,\"RESULTS\":15,\"DISCUSSION\":5,\"CONCLUSIONS\":5}\n",
    "result=make_article(reference_link,section_str_dict,section_len_dict)\n",
    "print(result)"
   ]
  },
  {
   "cell_type": "code",
   "execution_count": 26,
   "metadata": {
    "ExecuteTime": {
     "end_time": "2018-11-16T13:56:00.187105Z",
     "start_time": "2018-11-16T13:56:00.166895Z"
    }
   },
   "outputs": [
    {
     "name": "stdout",
     "output_type": "stream",
     "text": [
      "\n",
      "==== Front\n",
      "BioinformaticsbioinfoBioinformaticsBioinformatics1367-48031367-4811Oxford University Press 1723707310.1093/bioinformatics/btl650Applications NotesDatabases and OntologiesProServer: a simple, extensible Perl DAS server Finn Robert D. Stalker James W. Jackson David K. Kulesha Eugene Clements Jody Pettett Roger *Wellcome Trust Sanger Institute, Wellcome Trust Geome Campus, Hinxton, Cambridge, CB10 1SA, UK*To whom correspondence should be addressed.Associate Editor: Alfonso Valencia\n",
      "\n",
      "15 6 2007 18 1 2007 23 12 1568 1570 © 2007 The Author(s)This is an Open Access article distributed under the terms of the Creative Commons Attribution Non-Commercial License (http://creativecommons.org/licenses/by-nc/2.0/uk/) which permits unrestricted non-commercial use, distribution, and reproduction in any medium, provided the original work is properly cited.Summary: The increasing size and complexity of biological databases has led to a growing trend to federate rather than duplicate them. In order to share data between federated databases, protocols for the exchange mechanism must be developed. One such data exchange protocol that is widely used is the Distributed Annotation System (DAS). For example, DAS has enabled small experimental groups to integrate their data into the Ensembl genome browser. We have developed ProServer, a simple, lightweight, Perl-based DAS server that does not depend on a separate HTTP server. The ProServer package is easily extensible, allowing data to be served from almost any underlying data model. Recent additions to the DAS protocol have enabled both structure and alignment (sequence and structural) data to be exchanged. ProServer allows both of these data types to be served.\n",
      "\n",
      "Availability: ProServer can be downloaded from http://www.sanger.ac.uk/proserver/ or CPAN http://search.cpan.org/~rpettett/. Details on the system requirements and installation of ProServer can be found at http://www.sanger.ac.uk/proserver/.\n",
      "\n",
      "Contact: rmp@sanger.ac.uk\n",
      "\n",
      "Supplementary Materials: DasClientExamples.pdf\n",
      "==== Body\n",
      "1 INTRODUCTION\n",
      "High-throughput projects, such as the sequencing of the human genome, have resulted in a deluge of data. Thus, a key challenge in modern bioinformatics is to put in place mechanisms for programmatic exchange of and access to large volumes of data from disparate resources. As biological databases increase in size and complexity, the classical mechanism of data exchange, database duplication, can become impractical. For example, the underlying database for Ensembl release 41 is over 700GB, containing data on 25 different genomes, spread across hundreds of tables. An alternative to duplication of databases is to interlink the distributed resources, termed federation. However, for data exchange to take place between federated databases, a mechanism and standardization of format must be agreed. One such protocol for data exchange over a network is the Distributed Annotation System (DAS).\n",
      "\n",
      "Briefly, the DAS protocol standardizes queries and responses for DNA or protein sequences, along with their annotations, regardless of the underlying data architecture (Dowell et al., 2001). In common with other Web Services, client requests are made via HTTP to servers which process them and return results encapsulated in XML. Since the original DAS specification was developed, DAS has been used extensively for the annotation of genome (DNA) sequences and, more recently, of proteins. In addition, many extensions to the DAS protocol have been proposed. Two of these extensions, developed over the past year, allow the exchange of sequence alignments and protein structure data. These extensions enable annotations to be integrated across DNA, protein sequence and protein structure.\n",
      "\n",
      "We have developed ProServer, a simple, user-friendly package for making data available using the DAS protocol.\n",
      "\n",
      "2 PROSERVER\n",
      "ProServer has been available from the Wellcome Trust Sanger Institute since 2003. We have recently added additional functionality and documentation to improve usability and robustness.\n",
      "\n",
      "2.1 Architecture and flexibility\n",
      "ProServer is a standalone, lightweight DAS server, written in Perl and designed to have low system requirements. The architecture of ProServer is represented in Figure 1. At the top level, there is a daemon executable which acts as a broker between requests and the code that will handle them. The server is configured using a ‘.ini’-format configuration file holding settings for data sources provided by the server (Fig. 1). The networking requirements of ProServer are handled by the POE package (http://poe.perl.org/), which implements a portable multitasking and networking framework for Perl.\n",
      "Fig. 1. A schematic representation of the ProServer architecture. (See text for details.)\n",
      "\n",
      "\n",
      "\n",
      "The server sits upon a number of source adaptors with each one dedicated to a single underlying data store. Incoming queries are passed from the daemon to the appropriate source adaptor. The source adaptors handle access to the data store and the conversion of queries into generic DAS response data structures. Linking source adaptors to their data stores are generic transport helpers which are responsible for handling data acquisition (Fig. 1).\n",
      "\n",
      "Depending on the format of any new data set, it may be necessary to implement a new transport helper (Fig. 1). However, ProServer comes bundled with helpers for some common data stores, for example: flatfile, GFF. MySQL, Oracle and SRS getz. These transport helpers are all simple, command-line or socket-handling modules.\n",
      "\n",
      "How are new data sources made available using ProServer? In order to expose different sources of data, a new source adaptor class must be written. All such source adaptors inherit and extend generic functionality, namely the data retrieval methods that are applicable for the new data set (e.g. features or sequence). The superclass transparently handles the transformation of data to XML (Fig. 1). Finally, the details of the new source adaptor are entered into the ProServer configuration file.\n",
      "\n",
      "Specific details regarding installation, security (and best practice usage) and scalability can be found in the ProServer README file.\n",
      "\n",
      "2.2 Other DAS servers\n",
      "Two alternative systems for creating DAS servers are Dazzle (http://www.derkholm.net/thomas/dazzle/) and the Lightweight Distributed Annotation Server (LDAS, http://biodas.org/servers/LDAS.html). Dazzle is written in Java, whereas LDAS is written in Perl. Dazzle has comparable functionality to ProServer, whereas LDAS does not have alignment or structure capabilities. Both of these alternatives require an available web server (e.g. Apache) and time-consuming configuration. Despite the fact that ProServer does not use a web server such as Apache, our experience indicates that the main bottleneck is input–output rather than computation. Thus, providing the underlying data store is organized optimally (as it would need to be with the alternative servers), then similar performance and scalability should be achievable regardless of the DAS server used.\n",
      "\n",
      "The simplicity of ProServer means that it can be deployed by users with only basic bioinformatics skills. Therefore, groups can expose their data set, whether large or small, to the scientific community with little additional overhead to the storage of the data set.\n",
      "\n",
      "2.3 Examples\n",
      "ProServer was originally developed in conjunction with the Ensembl project (Birney et al., 2006), to display features such as gene predictions on chromosomes. Since the original release of ProServer, with only features and sequence capabilities, we have added both alignment and structure functionality. This has enabled the Pfam database (Finn et al., 2006) to provide access to their protein sequence alignments using ProServer to serve data directly from the underlying MySQL database (see http://das.sanger.ac.uk/das/pfamAlign).\n",
      "\n",
      "Other projects outside of the Wellcome Trust Sanger Institute are already using ProServer for the exchange of feature annotations: examples include Gene3D (Yeast et al., 2006), CBS (Ólason, 2005) and AnoEST (Kriventseva et al., 2005).\n",
      "\n",
      "The supplementary materials contain a list of some of the most popular clients that provide an insight to the use of DAS within the scientific community.\n",
      "\n",
      "3 CONCLUSIONS\n",
      "The federation of databases removes the effort involved with their duplication and maintenance and the problem of asynchronous versions. The relatively simple architecture of ProServer means that even small groups can make their data available via DAS, even if it is stored only as a flatfile, without the overheads of running a web server. Once available, this resource can be readily integrated into other data sets. For example, the Ensembl browser (Birney et al., 2006) allows new DAS sources to be added and displayed alongside existing annotation, even if they are only internally available at an institute. Rare chromosomal abnormality data from the DECIPHER project (http://decipher.sanger.ac.uk/syndromes) are being displayed in a genomic context via the Ensembl browser using ProServer, for example, the 1p36 microdeletion (http://www.sanger.ac.uk/turl/72d).\n",
      "\n",
      "A survey of the DAS registry (Prlic et al., 2006) (http://www.dasregistry.org/) demonstrated that 69 of the 103 registered feature servers were using ProServer at the time of writing. Thus, ProServer is already being widely used to provide data via the DAS protocol. The recent extensions increase the range of data types available via DAS, allowing the transfer of annotations between aligned objects. These extensions are leading to the development of exciting new clients that bring together different data types (Prlic A et al., 2005). ProServer's minimal requirements and simplicity, together with the widespread use of DAS in bioinformatics makes ProServer a valuable tool for publishing data in a common, standard format. The accessibility and programmatic integration of distributed resources into state of the art tools and websites is accelerating novel scientific discoveries.\n",
      "\n",
      "4 AVAILABILITY\n",
      "ProServer is available from http://www.sanger.ac.uk/proserver/ or CPAN http://search.cpan.org/~rpettett/ and has been tested on Tru64, Linux and Mac OS X architectures running Perl 5.6.1 and above. ProServer has also been run under Windows using the Cygwin environment.\n",
      "\n",
      "ACKNOWLEDGMENTS\n",
      "The authors thank Andreas Kahari and Stefan Gräf for contributing bug fixes. This work was funded by The Wellcome Trust and a MRC (UK) E-science grant (G0100305). Funding to pay the Open Access publication charges was provided by The Wellcome Trust.\n",
      "\n",
      "Conflict of Interest: none declared.\n",
      "==== Refs\n",
      "REFERENCES\n",
      "Birney E    Ensembl 2006 Nucleic Acids Res 2006 34 D556 D561 16381931 \n",
      "Dowell RD    The distributed annotation system BMC Bioinformatics 2001 2 7 11667947 \n",
      "Finn RD    Pfam: clans, web tools and services Nucleic Acids Res 2006 34 D247 D251 16381856 \n",
      "Kriventseva EV    AnoEST: Toward A. gambiae  functional genomics Genome Res 2005 15 893 899 15899967 \n",
      "Prlic A    Adding some SPICE to DAS Bioinformatics 2005 21 Suppl. 2 ii40 ii41 16204122 \n",
      "Prlic A    Leser U  Naumann F  Eckman B   The Distributed Annotation System for integration of biological data Data Integration in the Life Sciences: Third International Workshop, DILS 2006. Proceedings. 2006 Berlin/Heidelberg Springer 195 203 \n",
      "Ólason PÍ   Integrating protein annotation resources through the Distributed Annotation System Nucleic Acids Res 2005 33 W468 W470 15980514 \n",
      "Yeats C    Gene3D: modelling protein structure, function and evolution Nucleic Acids Res 2006 34 D281 D284 16381865\n",
      "\n"
     ]
    },
    {
     "ename": "NameError",
     "evalue": "name 'p' is not defined",
     "output_type": "error",
     "traceback": [
      "\u001b[1;31m---------------------------------------------------------------------------\u001b[0m",
      "\u001b[1;31mNameError\u001b[0m                                 Traceback (most recent call last)",
      "\u001b[1;32m<ipython-input-26-35fa410b98d6>\u001b[0m in \u001b[0;36m<module>\u001b[1;34m()\u001b[0m\n\u001b[0;32m      4\u001b[0m \u001b[0mtext\u001b[0m\u001b[1;33m=\u001b[0m\u001b[0mf\u001b[0m\u001b[1;33m.\u001b[0m\u001b[0mread\u001b[0m\u001b[1;33m(\u001b[0m\u001b[1;33m)\u001b[0m\u001b[1;33m\u001b[0m\u001b[0m\n\u001b[0;32m      5\u001b[0m \u001b[0mprint\u001b[0m\u001b[1;33m(\u001b[0m\u001b[0mtext\u001b[0m\u001b[1;33m)\u001b[0m\u001b[1;33m\u001b[0m\u001b[0m\n\u001b[1;32m----> 6\u001b[1;33m \u001b[0mp\u001b[0m\u001b[1;33m.\u001b[0m\u001b[0mclose\u001b[0m\u001b[1;33m(\u001b[0m\u001b[1;33m)\u001b[0m\u001b[1;33m\u001b[0m\u001b[0m\n\u001b[0m",
      "\u001b[1;31mNameError\u001b[0m: name 'p' is not defined"
     ]
    }
   ],
   "source": [
    "link=\"C:\\\\Users\\\\murat_gga8ya6\\\\Desktop\\\\RSG\\\\hackathon-rsg-paper\\\\PMC\\\\Bioinformatics\\\\\"\n",
    "file_names=os.listdir(link)\n",
    "f= open(link+file_names[0], encoding=\"utf8\")\n",
    "text=f.read()\n",
    "print(text)\n",
    "p.close()"
   ]
  },
  {
   "cell_type": "code",
   "execution_count": null,
   "metadata": {
    "ExecuteTime": {
     "end_time": "2018-11-16T13:34:36.917907Z",
     "start_time": "2018-11-16T13:34:36.912652Z"
    }
   },
   "outputs": [],
   "source": []
  },
  {
   "cell_type": "code",
   "execution_count": null,
   "metadata": {
    "ExecuteTime": {
     "end_time": "2018-11-16T12:52:00.695879Z",
     "start_time": "2018-11-16T12:52:00.688414Z"
    }
   },
   "outputs": [],
   "source": []
  },
  {
   "cell_type": "code",
   "execution_count": null,
   "metadata": {
    "ExecuteTime": {
     "end_time": "2018-11-16T12:53:38.713549Z",
     "start_time": "2018-11-16T12:53:38.702239Z"
    }
   },
   "outputs": [],
   "source": []
  },
  {
   "cell_type": "code",
   "execution_count": 26,
   "metadata": {
    "ExecuteTime": {
     "end_time": "2018-11-16T11:00:19.266968Z",
     "start_time": "2018-11-16T11:00:19.227076Z"
    }
   },
   "outputs": [
    {
     "name": "stdout",
     "output_type": "stream",
     "text": [
      "It also offers a wide range of visualization functions for structural similarity searching, clustering of residue types and evolutionary conservation.\n",
      "Remaining recognition problems are to detect exons in several genes confirmed by reverse transcriptase PCR.We discuss the algorithms and various utilities for managing complex compound data.\n",
      "This approach allows for a bipartite graph, the lack of need for 3D structure information of the underlying combinatorial problem, our method on both simulated and real time series expression data.\n",
      "Comparative analysis will be critically helpful for this problem, which is based on weighted fragments and genotypes with errors.\n",
      "The latter monitor the gene expression data in yeast.\n"
     ]
    }
   ],
   "source": [
    "model=markovify.Text(Results_abs)\n",
    "for i in range(5):\n",
    "    print(model.make_sentence())"
   ]
  },
  {
   "cell_type": "code",
   "execution_count": 27,
   "metadata": {
    "ExecuteTime": {
     "end_time": "2018-11-16T11:01:09.194676Z",
     "start_time": "2018-11-16T11:01:09.154788Z"
    }
   },
   "outputs": [],
   "source": [
    "Motivation_abs=\"\"\n",
    "link=\"C:\\\\Users\\\\murat_gga8ya6\\\\Desktop\\\\RSG\\\\hackathon-rsg-paper\\\\PMC\\\\Bioinformatics\\\\\"\n",
    "file_names=os.listdir(link)\n",
    "for i in file_names[:100]:\n",
    "    f= open(link+i, encoding=\"utf8\")\n",
    "    text=f.read()\n",
    "    s=re.search('Motivation: (.*)',text)\n",
    "    if not s is None:\n",
    "        Motivation_abs=Motivation_abs+s.group(1)\n",
    "    f.close()"
   ]
  },
  {
   "cell_type": "code",
   "execution_count": 29,
   "metadata": {
    "ExecuteTime": {
     "end_time": "2018-11-16T11:01:21.200441Z",
     "start_time": "2018-11-16T11:01:21.176491Z"
    }
   },
   "outputs": [
    {
     "name": "stdout",
     "output_type": "stream",
     "text": [
      "They can as well be applied to the forefront as a structural one, assuming a fixed backbone.\n",
      "It would be to distribute the individual comparisons on a genome is complicated by specific features of these resources to assess the improvement in prediction achieved when such information is taken into account.\n",
      "Unfortunately, peptide fragmentation is complex and not fully understood, and what is understood is not scalable to very large datasets.Recently, structural genomic variants have come to the disease.\n",
      "Clearly, certain choices of probability distributions will be important for correctly controlling FDR.\n",
      "New methods are useful for predicting the location of gene expression, and other DNA-related processes.\n"
     ]
    }
   ],
   "source": [
    "model=markovify.Text(Motivation_abs)\n",
    "for i in range(5):\n",
    "    print(model.make_sentence())"
   ]
  },
  {
   "cell_type": "code",
   "execution_count": 40,
   "metadata": {
    "ExecuteTime": {
     "end_time": "2018-11-16T11:43:47.917007Z",
     "start_time": "2018-11-16T11:43:47.883099Z"
    }
   },
   "outputs": [],
   "source": [
    "intro=\"\"\n",
    "link=\"C:\\\\Users\\\\murat_gga8ya6\\\\Desktop\\\\RSG\\\\hackathon-rsg-paper\\\\PMC\\\\Bioinformatics\\\\\"\n",
    "file_names=os.listdir(link)\n",
    "for i in file_names[:100]:\n",
    "    f= open(link+i, encoding=\"utf8\")\n",
    "    text=f.read()\n",
    "    s=re.search('INTRODUCTION\\n(.*)',text)\n",
    "    if not s is None:\n",
    "        intro=intro+s.group(1)\n",
    "    f.close()"
   ]
  },
  {
   "cell_type": "code",
   "execution_count": 82,
   "metadata": {
    "ExecuteTime": {
     "end_time": "2018-11-16T12:28:58.345112Z",
     "start_time": "2018-11-16T12:28:58.341119Z"
    },
    "scrolled": true
   },
   "outputs": [],
   "source": []
  },
  {
   "cell_type": "code",
   "execution_count": 79,
   "metadata": {
    "ExecuteTime": {
     "end_time": "2018-11-16T12:14:27.467212Z",
     "start_time": "2018-11-16T12:14:27.330575Z"
    }
   },
   "outputs": [],
   "source": [
    "section=\"\"\n",
    "link=\"C:\\\\Users\\\\murat_gga8ya6\\\\Desktop\\\\RSG\\\\hackathon-rsg-paper\\\\PMC\\\\Bioinformatics\\\\\"\n",
    "file_names=os.listdir(link)\n",
    "for i in file_names[:100]:\n",
    "    f= open(link+i, encoding=\"utf8\")\n",
    "    text=f.read()\n",
    "    s=re.search(\"(.*)\",text.replace(\"\\n\",\" \"))\n",
    "    if not s is None:\n",
    "        section=section+s.group(1)\n",
    "    f.close()"
   ]
  },
  {
   "cell_type": "code",
   "execution_count": null,
   "metadata": {
    "ExecuteTime": {
     "end_time": "2018-11-16T12:14:27.479177Z",
     "start_time": "2018-11-16T12:14:27.475190Z"
    }
   },
   "outputs": [],
   "source": []
  },
  {
   "cell_type": "code",
   "execution_count": 56,
   "metadata": {
    "ExecuteTime": {
     "end_time": "2018-11-16T11:51:24.191181Z",
     "start_time": "2018-11-16T11:51:23.878018Z"
    }
   },
   "outputs": [],
   "source": [
    "intro=\"\"\n",
    "link=\"C:\\\\Users\\\\murat_gga8ya6\\\\Desktop\\\\RSG\\\\hackathon-rsg-paper\\\\PMC\\\\Bioinformatics\\\\\"\n",
    "file_names=os.listdir(link)\n",
    "for i in file_names[:100]:\n",
    "    f= open(link+i, encoding=\"utf8\")\n",
    "    text=f.read()\n",
    "    s=re.search('==== Body(.*)==== Refs',text.replace(\"\\n\",\" \"))\n",
    "    if not s is None:\n",
    "        intro=intro+s.group(1)\n",
    "    f.close()"
   ]
  },
  {
   "cell_type": "code",
   "execution_count": 70,
   "metadata": {
    "ExecuteTime": {
     "end_time": "2018-11-16T11:56:24.773143Z",
     "start_time": "2018-11-16T11:56:24.657438Z"
    }
   },
   "outputs": [
    {
     "data": {
      "text/plain": [
       "array(['AAAAACCTTCATTTTATTTTATCTCCA', 'AAACACATCAGCAGCTTCAATACC',\n",
       "       'AAAGGTTCAACT', 'AATAAA', 'AATAAACA', 'AATACGTAC', 'AAUAAA',\n",
       "       'ACAACA', 'ACAACACTTAA', 'ACAACACTTAAAGGTTCAACTAGCAATA',\n",
       "       'ACATTCCAGCCCCAAAACC', 'ACCOUNTS', 'ACKNOWLEDEGMENTS',\n",
       "       'ACKNOWLEDGEMENT', 'ACKNOWLEDGEMENTS', 'ACKNOWLEDGMENTS',\n",
       "       'ACTTTTGAGTTAGGCCCTTTTT', 'ADMINISTRATION', 'AGACGTG',\n",
       "       'AGCAGCTCGTAATGCATCCT', 'AGGTAAG', 'AGGTAAGT', 'AGMIAL', 'AGTAGT',\n",
       "       'AGTAGTG', 'AGTCAGTT', 'ALGORITHM', 'ALGORITHMIC', 'ALGORITHMS',\n",
       "       'ALIGNING', 'ANALYSIS', 'APPENDIX', 'APPLICATION', 'APPLICATIONS',\n",
       "       'APPROACH', 'APPROXMGD', 'AREVIR', 'ARGUMENTATION', 'ARGUMENTION',\n",
       "       'ARGUMENTS', 'ASPECTS', 'ASTRAL', 'ATATAAA', 'ATATTAT', 'ATGTGCTA',\n",
       "       'AUGIST', 'AVAILABILITY', 'BACKBONE', 'BACKGROUND', 'BACKRUB',\n",
       "       'BASELINE', 'BATWING', 'BEHAVIOR', 'BENCHMARKING', 'BERNWARD',\n",
       "       'BIGINT', 'BINARY', 'BIOACTIVITY', 'BIOLOGICAL', 'BIOLOGISTS',\n",
       "       'BIOLOGY', 'BIOMEDICAL', 'BIOSIM', 'BIOVITRUM', 'BLASTCLUST',\n",
       "       'BLASTN', 'BLOCKS', 'BLOSUM', 'BOOLEAN', 'BRENDA',\n",
       "       'CACAATCGTTATGCGAAAATG', 'CACASA', 'CACTTAAAGGTT', 'CAGTCAGT',\n",
       "       'CARAPIORI', 'CARAPRIORI', 'CAREER', 'CATACC',\n",
       "       'CCCCCAAAGATTTGTCTGAA', 'CCCCCC', 'CEPCEB', 'CGCGCGC',\n",
       "       'CGGCGGGCTTATATTAAAAA', 'CGTCAGTT', 'CGTCGCG', 'CGYGYG', 'CHANNEL',\n",
       "       'CLASSIFICATION', 'CLUSTAL', 'COMGRIO', 'COMMON', 'COMPATIBILITY',\n",
       "       'COMPLEXITY', 'COMPOUND', 'COMPOUNDS', 'COMPUTATIONAL', 'COMPUTER',\n",
       "       'COMPUTING', 'CONCLUSION', 'CONCLUSIONS', 'CONCURRENT',\n",
       "       'CONSISTENT', 'CONTRA', 'COROLLARY', 'CORRELATIONS', 'COUNTING',\n",
       "       'CTJPGIS', 'DAGSVM', 'DATABASEID', 'DATABASES', 'DATASETS',\n",
       "       'DECIPHER', 'DEFINITION', 'DEFINITIONS', 'DESCRIPTION', 'DESIGN',\n",
       "       'DETECTION', 'DINAMELT', 'DIPLOID', 'DIRECTIONS', 'DISCUSSION',\n",
       "       'DISCUSSIONS', 'DISOPRED', 'DISTANCE', 'DISTRIBUTION',\n",
       "       'DISTRIBUTIONS', 'DIYABC', 'DNTTIP', 'DOUBLING', 'DRIPPRED',\n",
       "       'EFFICIENT', 'EMBOSS', 'ENCODE', 'ENGINE', 'ENSEMBL', 'ENSRNOP',\n",
       "       'ENTITIES', 'ENZYME', 'EPTIDE', 'ESTIMATESTTIMES',\n",
       "       'ESTIMATESTTOPOLOGY', 'EVALUATION', 'EVALUATIONS', 'EXACTMGD',\n",
       "       'EXAMPLE', 'EXAMPLES', 'EXENTIONS', 'EXPASY', 'EXPERIMENTAL',\n",
       "       'EXPERIMENTS', 'EXPRESSION', 'EXTREME', 'FEATURE', 'FEATURES',\n",
       "       'FINDANCESTOR', 'FINGERPRINTS', 'FOLDALIGN', 'FORMALIZATION',\n",
       "       'FORMALIZED', 'FORMULATION', 'FRISYS', 'FUNCTION', 'FUTURE',\n",
       "       'FYWHDNC', 'GATAATTTAGATGCCCCAAACCAA', 'GATTACA', 'GAVLIFYWM',\n",
       "       'GCACACCGATCCTTTCTCTT', 'GCGAACTTAACGGGATCTCA', 'GCGCGC',\n",
       "       'GCGCGCGC', 'GENCODE', 'GENDERID', 'GENERAL', 'GENERATING',\n",
       "       'GENOME', 'GENOMIC', 'GENOQUERY', 'GETCONNECTIVITYGRAPH', 'GGGGGG',\n",
       "       'GGTAAGT', 'GGTAGGT', 'GGTCAGTT', 'GGTGGG', 'GRAPPA', 'GREEDY',\n",
       "       'GTATAAA', 'GTATATA', 'GTCAGTTT', 'HALVING', 'HMMTOP', 'HUMARA',\n",
       "       'IMPBIO', 'IMPLEMENTATION', 'IMPLICATIONS', 'INFERENCE',\n",
       "       'INFLUENCE', 'INTARNA', 'INTRODUCTION', 'INVOLVED', 'ISTZORAN',\n",
       "       'JULIEL', 'KNOWLEDGE', 'LABELTREE', 'LALIGN', 'LIGAND',\n",
       "       'LOADEDGES', 'LOOKAHEAD', 'MACHOS', 'MALLET', 'MATERIAL',\n",
       "       'MATERIALS', 'MATLAB', 'MAXIMUM', 'MEDIAN', 'MEDLINE', 'METHOD',\n",
       "       'METHODS', 'METRIC', 'MISGEPOP', 'MITACS', 'MODBASE', 'MODELING',\n",
       "       'MODELLER', 'MODELS', 'MODIFIER', 'MODULE', 'MOLECULAR',\n",
       "       'MONITORING', 'MRCAST', 'MUSCLE', 'MUTATIONS', 'MVAPICH', 'NETCAR',\n",
       "       'NETWORKS', 'NOTATION', 'NUCLEOSOME', 'NUMBER', 'ONTOLOGIES',\n",
       "       'ONTOLOGY', 'OPTICS', 'OUTLOOK', 'OVERVIEW', 'PACKAGE', 'PAIRFOLD',\n",
       "       'PASCAL', 'PECASE', 'PEPMORPH', 'PEPTID', 'PEPTIDE', 'PERCENT',\n",
       "       'PERFORMANCE', 'PHYLOGENETIC', 'PISCES', 'POPULATION',\n",
       "       'PREDICTION', 'PRELIMINARIES', 'PREVIOUS', 'PRINTS',\n",
       "       'PROBABILISTIC', 'PROBLEM', 'PROBLEMS', 'PROCEDURES', 'PROCHECK',\n",
       "       'PROGRAM', 'PROGRESS', 'PROLOG', 'PROPOSITION', 'PROSERVER',\n",
       "       'PROSITE', 'PROSPECT', 'PROTEIN', 'PROTEINS', 'PROTEUS',\n",
       "       'PROTOCOLS', 'PSIPRED', 'QUERYING', 'README', 'RECORDED', 'REDUCE',\n",
       "       'REDUCTION', 'REFERENCE', 'RELATED', 'REMARKS', 'REPRESENTATION',\n",
       "       'REPRESENTATIONS', 'REQUIREMENTS', 'RESCUE', 'RESULT', 'RESULTS',\n",
       "       'REWERSE', 'RISKID', 'RKDENQ', 'RNACOFOLD', 'RNADUPLEX',\n",
       "       'RNAHYBRID', 'RNAPLEX', 'RNAPLFOLD', 'RNASEL', 'ROSETTA',\n",
       "       'SAPIENS', 'SCORES', 'SCORING', 'SECONDARY', 'SELECTCHILD',\n",
       "       'SELECTION', 'SELECTPARENT', 'SEQUENCING', 'SEQUEST', 'SERIES',\n",
       "       'SHARCNET', 'SHOGUN', 'SIBLING', 'SIGNIFICANCE', 'SIMCOMP',\n",
       "       'SIMILARITY', 'SMILES', 'SNOMED', 'SOFTWARE', 'SSEARCH',\n",
       "       'STATEMENT', 'STATISTICAL', 'STATISTICS', 'STRING', 'STUDIES',\n",
       "       'SUBDUE', 'SUBGRAPH', 'SUBGRAPHS', 'SUMMARY', 'SUPERFAMILY',\n",
       "       'SYSTEM', 'TARGETRNA', 'TASSER', 'TATAAA', 'TATAAAA', 'TATAAAG',\n",
       "       'TATATAA', 'TBLASTN', 'TCAGTT', 'TCAGTTGT',\n",
       "       'TCCCATGCTCTATTATCTTTGG', 'TGCTCCTAAAACATTTCCCATA',\n",
       "       'TGGGTAAGTTTAAAGCGATTTTT', 'TGGTCATTCTTATCCTTCACATGAA',\n",
       "       'TGGTGGGTAA', 'TGTGTG', 'THEOREM', 'THEORETICAL', 'THEORY',\n",
       "       'THRESHOLD', 'TIGRFAM', 'TOPDOM', 'TRANSFAC', 'TRANSMEM',\n",
       "       'TREATMENT', 'TREATMENTS', 'TTTCAGA', 'TTTCAGG', 'TTTTCAG',\n",
       "       'TTTTTGAGAGTGACTTTGAATGC', 'TTTTTTT', 'UNKNOWN', 'VALIDATION',\n",
       "       'VALUES', 'VECTOR', 'VERIFY', 'WARSHALL', 'YILMFWC', 'ZOONET'],\n",
       "      dtype='<U28')"
      ]
     },
     "execution_count": 70,
     "metadata": {},
     "output_type": "execute_result"
    }
   ],
   "source": [
    "np.unique([i for i in re.findall(\"([A-Z]+)\",intro) if len(i)> 5])"
   ]
  }
 ],
 "metadata": {
  "hide_input": false,
  "kernelspec": {
   "display_name": "Python 3",
   "language": "python",
   "name": "python3"
  },
  "language_info": {
   "codemirror_mode": {
    "name": "ipython",
    "version": 3
   },
   "file_extension": ".py",
   "mimetype": "text/x-python",
   "name": "python",
   "nbconvert_exporter": "python",
   "pygments_lexer": "ipython3",
   "version": "3.7.0"
  },
  "toc": {
   "base_numbering": 1,
   "nav_menu": {},
   "number_sections": true,
   "sideBar": true,
   "skip_h1_title": false,
   "title_cell": "Table of Contents",
   "title_sidebar": "Contents",
   "toc_cell": false,
   "toc_position": {},
   "toc_section_display": true,
   "toc_window_display": false
  },
  "varInspector": {
   "cols": {
    "lenName": 16,
    "lenType": 16,
    "lenVar": 40
   },
   "kernels_config": {
    "python": {
     "delete_cmd_postfix": "",
     "delete_cmd_prefix": "del ",
     "library": "var_list.py",
     "varRefreshCmd": "print(var_dic_list())"
    },
    "r": {
     "delete_cmd_postfix": ") ",
     "delete_cmd_prefix": "rm(",
     "library": "var_list.r",
     "varRefreshCmd": "cat(var_dic_list()) "
    }
   },
   "types_to_exclude": [
    "module",
    "function",
    "builtin_function_or_method",
    "instance",
    "_Feature"
   ],
   "window_display": false
  }
 },
 "nbformat": 4,
 "nbformat_minor": 2
}
