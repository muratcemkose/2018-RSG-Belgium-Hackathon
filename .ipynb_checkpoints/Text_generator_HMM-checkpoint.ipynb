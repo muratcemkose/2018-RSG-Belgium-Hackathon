{
 "cells": [
  {
   "cell_type": "code",
   "execution_count": 10,
   "metadata": {
    "ExecuteTime": {
     "end_time": "2018-11-17T13:48:18.042250Z",
     "start_time": "2018-11-17T13:48:18.029271Z"
    }
   },
   "outputs": [],
   "source": [
    "import markovify\n",
    "import pandas as pd\n",
    "import os\n",
    "import re\n",
    "import pylab\n",
    "import numpy as np\n",
    "import numpy.random\n",
    "import matplotlib.pyplot as plt\n",
    "from PIL import Image\n",
    "\n",
    "def find_section(word_list, link):\n",
    "    \"\"\" From the files given by the link, finds the section between two elements in the word list and merges them\n",
    "    together to feed into HMM model.\n",
    "    \n",
    "    Parameters\n",
    "    ----------\n",
    "    word_list : list\n",
    "        The list including word couples to define boundries for section selection.\n",
    "    link : str\n",
    "        The link for the files to collect data from.\n",
    "    Returns\n",
    "    -------\n",
    "    section : str\n",
    "        The result string including all the information from relevant papers for given section. \n",
    "    \"\"\"\n",
    "    section=\"\"\n",
    "    file_names=os.listdir(link)\n",
    "    for i in file_names:\n",
    "        f= open(link+i, encoding=\"utf8\")\n",
    "        text=f.read()\n",
    "        s=re.search(re.escape(word_list[0])+r\"(.*)\"+re.escape(word_list[1]),text.replace(\"\\n\",\" \"))\n",
    "        if not s is None:\n",
    "            section=section+s.group(1)\n",
    "        f.close()\n",
    "    return section\n",
    "\n",
    "def make_article(reference_link, section_str_dict,section_len_dict):\n",
    "    \"\"\" Main method to create a random article. From a list of reference articles, it builds HMM models for \n",
    "    each section of the articles and creates a random article. If the created article includes a table or a\n",
    "    figure, they are also randomly created and added to the results section.\n",
    "    \n",
    "    Parameters\n",
    "    ----------\n",
    "    reference_link : str\n",
    "        The link for the files to collect data from.\n",
    "    section_str_dict : Dict\n",
    "        The dictionary that defines the scaffold of the article. It is consist of key-list pairs defining\n",
    "        sections (keys) and section boundries (a list including tuples with starting and ending key words.)\n",
    "    section_len_dict : Dict\n",
    "        The dictionary that defines how many sentences a section should have.\n",
    "    Returns\n",
    "    -------\n",
    "    whole_article : str\n",
    "        A randomly created article, written in Latex format. \n",
    "    \"\"\"\n",
    "    whole_article=\"\"\n",
    "    for i in section_str_dict.keys():\n",
    "        section_input=\"\"\n",
    "        for j in section_str_dict.get(i):\n",
    "            section_input=section_input+find_section(j,reference_link)\n",
    "        model=markovify.Text(section_input)\n",
    "        section_output=\"\"\n",
    "        for t in range(section_len_dict.get(i)):\n",
    "            section_output=section_output+\" \"+model.make_sentence()\n",
    "        if i==\"RESULTS\":\n",
    "            section_output=section_output.replace(\"-\",\"\\-\") #could be written better with regex but we had limited time.\n",
    "            section_output=section_output.replace(\"&\",\"\\&\")\n",
    "            section_output=section_output.replace(\"%\",\"\\%\")\n",
    "            section_output=section_output.replace(\"~\",\"\\~\")\n",
    "            section_output=section_output.replace(\"^\",\"\\^\")\n",
    "            section_output=section_output.replace(\"_\",\"\\_\")\n",
    "            section_output=section_output.replace(\"+\",\"\\+\")\n",
    "            if \" table\" in section_output.lower():\n",
    "                section_output=section_output+\"\\n\"+pd.DataFrame(np.random.random((5,5))).to_latex()\n",
    "            if \" figure\" in section_output.lower():\n",
    "                x = np.random.randn(5000)\n",
    "                y = np.random.randn(5000)\n",
    "                heatmap, xedges, yedges = np.histogram2d(x, y, bins=50)\n",
    "                plt.clf()\n",
    "                plt.imshow(heatmap.T)\n",
    "                plt.savefig(os.getcwd()+\"\\\\result_image.png\")\n",
    "                section_output=section_output+\"\\n\"+\"\\\\begin{figure}[H]\\n\\centering\\n\\includegraphics*[width=1\\\\textwidth]{result_image.png}\\n\\end{figure}\"\n",
    "        else:\n",
    "            section_output=section_output.replace(\"-\",\"\\-\")\n",
    "            section_output=section_output.replace(\"&\",\"\\&\")\n",
    "            section_output=section_output.replace(\"%\",\"\\%\")\n",
    "            section_output=section_output.replace(\"~\",\"\\~\")\n",
    "            section_output=section_output.replace(\"^\",\"\\^\")\n",
    "            section_output=section_output.replace(\"_\",\"\\_\")\n",
    "            section_output=section_output.replace(\"+\",\"\\+\")\n",
    "        whole_article=whole_article+\" \"+\"\\section{\"+i+\"}\\n\"+section_output+\"\\n\"\n",
    "    return whole_article"
   ]
  },
  {
   "cell_type": "code",
   "execution_count": 14,
   "metadata": {
    "ExecuteTime": {
     "end_time": "2018-11-17T13:51:13.046129Z",
     "start_time": "2018-11-17T13:49:55.760740Z"
    },
    "scrolled": false
   },
   "outputs": [
    {
     "name": "stdout",
     "output_type": "stream",
     "text": [
      " \\section{Motivation}\n",
      " Although the link from the reference, and are publicly available as supplementary material. Notice that the binding residues are predicted to be around 2–2.5 h. The resulting method WKM.\n",
      " \\section{Results}\n",
      " Two adjusted P\\-values are generated and model selection is performed using a ratio of the type we detect more remote homology than the best and once the second best method among the clustering of compounds in luciferase\\-based HTS experiments. The expected results could be linked to cell death, and follow\\-up research on Drosophila and Human data and links were utilized to organize the data from different organisms, mass spectrometers, MS analysis software, despite having at least 11 families had at least 21 times faster and with the phenotype. The generalized UniFrac distances in a massively parallel sequencing.\n",
      " \\section{Availability}\n",
      " All points which have the correct assignments tend to be three residues before the location identified by the inverse of the segments are extracted from the commonly used RMSD is that it also can serve as a Java™ Web Start application and for simulation of synthetic data is essentially that helices and sheets, and other sequential differences with the assignment course which is characterized by a specific permutation on the first 100 predicted contacts.\n",
      " \\section{INTRODUCTION}\n",
      " We used this technique on a different angle; its compression improves GDT\\_TS.B. Below, we delve into low\\-level details. An alignment path with maximum probability of the mutation is made; at the problem of many regulatory processes involving chromatin. Finally, we analyze the use of functional genes. 2.1.4 Dataset statistics The raw dataset consists of 4 for a BB genotype. Although being overly simple, this model from data. We refined the scoring function described here were a different HMM for a pixel, its neighborhood is estimated by an integral solution. The main difference between a test statistic to rank candidate genes; the resultant community structures from the data for enzyme subcellular localization of metabolic pathways information. 2.5.2 Random PPI network alignment. For example, let G denote the state variables . In other words, for this method over the corresponding column of Figure 1.\n",
      " \\section{METHODS}\n",
      " The sequence with adjacent helices. 4 S 3.1 Synthetic data collection We measured the entropy for assessing the homogeneity of the enrichment of each stage. The residues whose Cβ atoms are included in the HDFS. Each individual tree is grown by randomly choosing with replacement is performed. For each edge as the core equivalence as candidates for the drawing of large networks. The orientations were assigned to Plasmodium protein sequences database using eTBLAST, the algorithm uses a Bayesian probability framework Primary protein identification is presented as a colored path connecting the topic model. 3 TileProbe consists of 24 000 time steps. The second is to eliminate targets which could be trained in a strong proline\\-directed fragmentation ion must be processed, only some of them has only been implemented experimentally to store cached fragments of the abundance skew, and by considering the number of TNs, such as genotypic means. These documents were subsequently sequenced using the real and false negatives for a particular chromosome with telomeric and centromeric regions When the sequences in parallel. A real OTU phylogenetic tree using fasttree, resulting in clearly visible overlapping many known coding and non\\-coding models by maximum entropy criterion In information theory, entropy is larger.\n",
      " \\section{RESULTS}\n",
      " In general, it is apparent that most manually curated signalling paths that connect a protein of 28 known rSNPs Table 1 displays some of these actors, such as PPI, graphs than the average network outputs and the cMYC ChIP–PET dataset. Following the cross\\-validation study where 20\\% of terms was identified automatically and discarded in the training set. Although there were no significant difference between actual and expected primer Tm. If a mutation rate of recall by varying the number of models to select the relationship between sources is approximately linearly with increasing proportion of blocks affected by the methods are not reproduced here for the HMM both assume that the lower left part of the training set, as in the query sequence, although individually, those parameters were used to generate the ROC analysis. We split the scaffolds whose mapping positions or directions are different. 4 3.1 Implementation Our method uses input features are largely unaffected by read depth as sample annotations were propagated based on two criteria, sensitivity/specificity and phenotype data. Finally, we assume that the performance in false positive rates at the end or at the sequences matched by hmmsearch as training data, which the estimators were closer to R than in the analysis of the secondary screen yielding 64 significant genes. Figure 4 shows the results where only the primary topic. Nor was there any correlation in the Top 10. The combined method which can now be distinguished more easily explainable sets than all methods in all analyses. We used BlastN and MegaBlast as examples of how active each biological process within each well, percentages of correct contigs over all 10 000 example sentences selected at random a SNP perturbing a super network consisting of three main steps. PhyCMAP significantly outperforms all methods. The red lines represent the expression patterns observed in the Tm difference becomes on average when considering an increasing amount of false IBD = 2 loci, we compared our method in Figure 5. All methods use default values. PlasESTLS: liver EST sequences from the full training set and the 15N\\-edited NOESY assignments.\n",
      "\\begin{tabular}{lrrrrr}\n",
      "\\toprule\n",
      "{} &         0 &         1 &         2 &         3 &         4 \\\\\n",
      "\\midrule\n",
      "0 &  0.363214 &  0.118451 &  0.836649 &  0.486065 &  0.691792 \\\\\n",
      "1 &  0.817878 &  0.007961 &  0.635441 &  0.077212 &  0.689529 \\\\\n",
      "2 &  0.795269 &  0.001209 &  0.062676 &  0.975185 &  0.180727 \\\\\n",
      "3 &  0.363988 &  0.092214 &  0.400228 &  0.125417 &  0.689972 \\\\\n",
      "4 &  0.744980 &  0.794806 &  0.803888 &  0.099519 &  0.861463 \\\\\n",
      "\\bottomrule\n",
      "\\end{tabular}\n",
      "\n",
      "\\begin{figure}[H]\n",
      "\\centering\n",
      "\\includegraphics*[width=1\\textwidth]{result_image.png}\n",
      "\\end{figure}\n",
      " \\section{DISCUSSION}\n",
      " There are six pairwise comparisons between the template structure used for normalization or between individual slides and plate\\-based readout. Finally, although we note that denote the best linear combination of sensitivity of our method. With increasing amounts of memory. The descriptions of shapes and colors of line plots and coloring as in the top\\-100 predictions. We report the average per\\-target TM\\-score of 0.55, which is mapped through the NOT gate and act as negative examples.\n",
      " \\section{CONCLUSIONS}\n",
      " Including estimated species trees from unrooted gene trees. The comparison with RNAHYBRID, whose hybridization energy model is the only one in our test set with a discontinuous hybridization pattern. By associating studies with different data types available via DAS, allowing the transfer of annotations between aligned objects. Once available, this resource can be used to find other RNA–RNA interactions as well. In one of the fragmentation trees that are more closely related to the ontology.\n",
      "\n"
     ]
    },
    {
     "data": {
      "image/png": "[encoded data removed]",
      "text/plain": [
       "<Figure size 432x288 with 1 Axes>"
      ]
     },
     "metadata": {
      "needs_background": "light"
     },
     "output_type": "display_data"
    }
   ],
   "source": [
    "reference_link=os.getcwd()+\"\\\\Bioinformatics\\\\\"\n",
    "section_str_dict={\"Motivation\":[(\"Motivation\",\"Results\")],\"Results\":[(\"Results\",\"Availability\")],\"Availability\":[(\"Availability\",\"Contact\")],\"INTRODUCTION\":[(\"INTRODUCTION\",\"RESULTS\")],\"METHODS\":[(\"METHODS\",\"RESULT\"),(\"METHODS\",\"RESULTS\"),(\"METHOD\",\"RESULT\"),(\"METHOD\",\"RESULTS\")],\"RESULTS\":[(\"RESULTS\",\"DISCUSSION\"),(\"RESULT\",\"DISCUSSION\"),(\"RESULTS\",\"DISCUSSIONS\"),(\"RESULT\",\"DISCUSSIONS\")],\"DISCUSSION\":[(\"DISCUSSIONS\",\"CONCLUSION\"),(\"DISCUSSION\",\"CONCLUSION\"),(\"DISCUSSIONS\",\"CONCLUSIONS\"),(\"DISCUSSION\",\"CONCLUSIONS\")],\"CONCLUSIONS\":[(\"CONCLUSIONS\",\"AVAILABILITY\"),(\"CONCLUSION\",\"ACKNOWLEDGMENTS\"),(\"CONCLUSIONS\",\"FUNDING\")]}\n",
    "section_len_dict={\"Motivation\":3,\"Results\":3,\"Availability\":1,\"INTRODUCTION\":10,\"METHODS\":10,\"RESULTS\":15,\"DISCUSSION\":5,\"CONCLUSIONS\":5}\n",
    "result=make_article(reference_link,section_str_dict,section_len_dict)\n",
    "print(result)"
   ]
  },
  {
   "cell_type": "code",
   "execution_count": null,
   "metadata": {
    "ExecuteTime": {
     "end_time": "2018-11-16T13:53:58.645294Z",
     "start_time": "2018-11-16T13:53:58.633690Z"
    }
   },
   "outputs": [],
   "source": []
  },
  {
   "cell_type": "code",
   "execution_count": null,
   "metadata": {
    "ExecuteTime": {
     "end_time": "2018-11-17T13:49:38.185140Z",
     "start_time": "2018-11-17T13:49:10.898377Z"
    }
   },
   "outputs": [],
   "source": []
  },
  {
   "cell_type": "code",
   "execution_count": null,
   "metadata": {
    "ExecuteTime": {
     "end_time": "2018-11-16T13:56:00.187105Z",
     "start_time": "2018-11-16T13:56:00.166895Z"
    }
   },
   "outputs": [],
   "source": []
  },
  {
   "cell_type": "code",
   "execution_count": null,
   "metadata": {
    "ExecuteTime": {
     "end_time": "2018-11-16T13:34:36.917907Z",
     "start_time": "2018-11-16T13:34:36.912652Z"
    }
   },
   "outputs": [],
   "source": []
  }
 ],
 "metadata": {
  "hide_input": false,
  "kernelspec": {
   "display_name": "Python 3",
   "language": "python",
   "name": "python3"
  },
  "language_info": {
   "codemirror_mode": {
    "name": "ipython",
    "version": 3
   },
   "file_extension": ".py",
   "mimetype": "text/x-python",
   "name": "python",
   "nbconvert_exporter": "python",
   "pygments_lexer": "ipython3",
   "version": "3.7.0"
  },
  "toc": {
   "base_numbering": 1,
   "nav_menu": {},
   "number_sections": true,
   "sideBar": true,
   "skip_h1_title": false,
   "title_cell": "Table of Contents",
   "title_sidebar": "Contents",
   "toc_cell": false,
   "toc_position": {},
   "toc_section_display": true,
   "toc_window_display": false
  },
  "varInspector": {
   "cols": {
    "lenName": 16,
    "lenType": 16,
    "lenVar": 40
   },
   "kernels_config": {
    "python": {
     "delete_cmd_postfix": "",
     "delete_cmd_prefix": "del ",
     "library": "var_list.py",
     "varRefreshCmd": "print(var_dic_list())"
    },
    "r": {
     "delete_cmd_postfix": ") ",
     "delete_cmd_prefix": "rm(",
     "library": "var_list.r",
     "varRefreshCmd": "cat(var_dic_list()) "
    }
   },
   "types_to_exclude": [
    "module",
    "function",
    "builtin_function_or_method",
    "instance",
    "_Feature"
   ],
   "window_display": false
  }
 },
 "nbformat": 4,
 "nbformat_minor": 2
}
